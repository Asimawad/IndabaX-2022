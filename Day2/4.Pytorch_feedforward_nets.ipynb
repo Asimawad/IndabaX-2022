{
 "cells": [
  {
   "cell_type": "code",
   "execution_count": 2,
   "metadata": {
    "colab": {
     "base_uri": "https://localhost:8080/",
     "height": 68
    },
    "colab_type": "code",
    "id": "uXoT8llT3kml",
    "outputId": "93aac08a-eb10-4a5f-fe9f-7b914a224a08"
   },
   "outputs": [
    {
     "name": "stdout",
     "output_type": "stream",
     "text": [
      "\u001b[1;34m*=*=*=*=*=*=*=*=*=*=*=*=*=*=*=*=*=*=*=*=*=*=*=*=*=*=*=*=*=*=*=*=*=*=*=*=*=*=*=*=*=*=*=*=*=*=*=*=*=*=*=*=*=*=*=*=*=*=*=*=\n",
      "\u001b[0;0m\u001b[1;31m*=*=*=*=*=*=*=*=*=*=*=*=*=*=*=*=*=*=*=*=*=*=*=*=*=*=*=*=*=*=*=*=*=*=*=*=*=*=*=*=*=*=*=*=*=*=*=*=*=*=*=*=*=*=*=*=*=*=*=*=\n",
      "\u001b[0;0m\u001b[1;34m*=*=*=*=*=*=*=*=*=*=*=*=*=*=*=*=*=*=*=*=*=*=*=*=*=*=*=*=*=*=*=*=*=*=*=*=*=*=*=*=*=*=*=*=*=*=*=*=*=*=*=*=*=*=*=*=*=*=*=*=\n",
      "\u001b[0;0m"
     ]
    }
   ],
   "source": [
    "# imported libraries and plottin code \n",
    "from os import sys\n",
    "import random\n",
    "import torch\n",
    "from torch import nn, optim\n",
    "import math\n",
    "from IPython import display\n",
    "import torch.functional as F\n",
    "from matplotlib import pyplot as plt\n",
    "import numpy as np\n",
    "\n",
    "RED   = \"\\033[1;31m\"  \n",
    "BLUE  = \"\\033[1;34m\"\n",
    "CYAN  = \"\\033[1;36m\"\n",
    "GREEN = \"\\033[0;32m\"\n",
    "RESET = \"\\033[0;0m\"\n",
    "BOLD    = \"\\033[;1m\"\n",
    "REVERSE = \"\\033[;7m\"\n",
    "\n",
    "def print_colored_line(color): \n",
    "    sys.stdout.write(color)\n",
    "    print(\"*=\"*60)\n",
    "    sys.stdout.write(RESET)\n",
    "\n",
    "def print_colored_text(text, color): \n",
    "    sys.stdout.write(color)\n",
    "    print(text)\n",
    "    sys.stdout.write(RESET)\n",
    "\n",
    "def set_default(figsize=(10, 10)):\n",
    "    plt.style.use(['dark_background', 'bmh'])\n",
    "    plt.rc('axes', facecolor='k')\n",
    "    plt.rc('figure', facecolor='k')\n",
    "    plt.rc('figure', figsize=figsize)\n",
    "\n",
    "\n",
    "def plot_data(X, y, d=0, auto=False, zoom=1):\n",
    "    X = X.cpu()\n",
    "    y = y.cpu()\n",
    "    plt.scatter(X.numpy()[:, 0], X.numpy()[:, 1], c=y, s=20, cmap=plt.cm.Spectral)\n",
    "    plt.axis('square')\n",
    "    plt.axis(np.array((-1.1, 1.1, -1.1, 1.1)) * zoom)\n",
    "    if auto is True: plt.axis('equal')\n",
    "    plt.axis('off')\n",
    "\n",
    "    _m, _c = 0, '.15'\n",
    "    plt.axvline(0, ymin=_m, color=_c, lw=1, zorder=0)\n",
    "    plt.axhline(0, xmin=_m, color=_c, lw=1, zorder=0)\n",
    "    plt.show()\n",
    "\n",
    "\n",
    "def plot_model(X, y, model):\n",
    "    model.cpu()\n",
    "    mesh = np.arange(-1.1, 1.1, 0.01)\n",
    "    xx, yy = np.meshgrid(mesh, mesh)\n",
    "    with torch.no_grad():\n",
    "        data = torch.from_numpy(np.vstack((xx.reshape(-1), yy.reshape(-1))).T).float()\n",
    "        Z = model(data).detach()\n",
    "    Z = np.argmax(Z, axis=1).reshape(xx.shape)\n",
    "    plt.contourf(xx, yy, Z, cmap=plt.cm.Spectral, alpha=0.3)\n",
    "    plot_data(X, y)\n",
    "\n",
    "\n",
    "def show_scatterplot(X, colors, title=''):\n",
    "    colors = colors.cpu().numpy()\n",
    "    X = X.cpu().numpy()\n",
    "    plt.figure()\n",
    "    plt.axis('equal')\n",
    "    plt.scatter(X[:, 0], X[:, 1], c=colors, s=30)\n",
    "    # plt.grid(True)\n",
    "    plt.title(title)\n",
    "    plt.axis('off')\n",
    "\n",
    "\n",
    "def plot_bases(bases, width=0.04):\n",
    "    bases = bases.cpu()\n",
    "    bases[2:] -= bases[:2]\n",
    "    plt.arrow(*bases[0], *bases[2], width=width, color=(1,0,0), zorder=10, alpha=1., length_includes_head=True)\n",
    "    plt.arrow(*bases[1], *bases[3], width=width, color=(0,1,0), zorder=10, alpha=1., length_includes_head=True)\n",
    "\n",
    "\n",
    "def show_mat(mat, vect, prod, threshold=-1):\n",
    "    # Subplot grid definition\n",
    "    fig, (ax1, ax2, ax3) = plt.subplots(1, 3, sharex=False, sharey=True,\n",
    "                                        gridspec_kw={'width_ratios':[5,1,1]})\n",
    "    # Plot matrices\n",
    "    cax1 = ax1.matshow(mat.numpy(), clim=(-1, 1))\n",
    "    ax2.matshow(vect.numpy(), clim=(-1, 1))\n",
    "    cax3 = ax3.matshow(prod.numpy(), clim=(threshold, 1))\n",
    "\n",
    "    # Set titles\n",
    "    ax1.set_title('A: {} \\u00D7 {}'.format(mat.size(0), mat.size(1)))\n",
    "    ax2.set_title('a^(i): {}'.format(vect.numel()))\n",
    "    ax3.set_title('p: {}'.format(prod.numel()))\n",
    "\n",
    "    # Plot colourbars\n",
    "    fig.colorbar(cax1, ax=ax2)\n",
    "    fig.colorbar(cax3, ax=ax3)\n",
    "\n",
    "    # Fix y-axis limits\n",
    "    ax1.set_ylim(bottom=max(len(prod), len(vect)) - 0.5)\n",
    "    \n",
    "print_colored_line(BLUE)\n",
    "print_colored_line(RED)\n",
    "print_colored_line(BLUE)"
   ]
  },
  {
   "cell_type": "markdown",
   "metadata": {
    "colab_type": "text",
    "id": "tulybfA73kmx"
   },
   "source": [
    "<h1 style=\"font-family:verdana;font-size:300%;text-align:center;background-color:#f2f2f2;color:#0d0d0d\">Introduction to FeedForward Networks with Pytorch</h1>"
   ]
  },
  {
   "cell_type": "markdown",
   "metadata": {
    "colab_type": "text",
    "id": "q7A-At9r3kmz"
   },
   "source": [
    "<h1 style=\"font-family:verdana;font-size:150%;text-align:left;color:#993333\"> Why Pytorch ? </h1>"
   ]
  },
  {
   "cell_type": "markdown",
   "metadata": {
    "colab_type": "text",
    "collapsed": true,
    "id": "JPRkz8DV3km1"
   },
   "source": [
    "\n",
    "<h1 style=\"font-family:verdana;font-size:120%;text-align:left;color:blue\">Pytorch: </h1>\n",
    "It’s a Python-based scientific computing package, pytorch is: \n",
    "\n",
    "<h1 style=\"font-family:verdana;font-size:150%;text-align:center;background-color:#f2f2f2;color:#993333; border:2px; border-style:solid; border-color:gray; padding: 1em\"> Numpy + Autograd + GPU acceleration </h1>\n",
    "\n",
    "<h1 style=\"font-family:verdana;font-size:120%;text-align:left;color:blue\">Features: </h1>\n",
    "- Very Pythonic. \n",
    "- Dynamic computation graph is easy to understand.  \n",
    "- Readable code. \n",
    "- #1 Framework used in research. \n",
    "            "
   ]
  },
  {
   "cell_type": "markdown",
   "metadata": {
    "colab_type": "text",
    "id": "UB2dltPW3km3"
   },
   "source": [
    "## Basic Pytorch \n",
    "- Tensors.  \n",
    "- Tesnor operations (initalization, math, logical, reshaping and slicing ... etc). \n",
    "- Building models torch.nn \n",
    "- Concept of computation graph.  \n",
    "- .backward operation(). \n",
    "- Optimizers and optimizers step.  "
   ]
  },
  {
   "cell_type": "markdown",
   "metadata": {
    "colab_type": "text",
    "id": "t3XGn2sC3km5"
   },
   "source": [
    "\n",
    "<h1 style=\"font-family:verdana;font-size:100%;text-align:center;color:blue\"> The Tensor is the basic data structure of Pytorch. Pytorch is all about performing operations on the tensors </h1>\n",
    "<p style=\"font-family:verdana;font-size:100%;text-align:left;color:black; border:3px; border-style:solid; border-color:gray; padding: 1em; \"> \n",
    "A tensor is a numeric data holder. We can think of it as a multi-dimensional matrix. The dimensions are the natural numbers. Tensors are similar to numpy arrays, with additional features, namely GPU computation and holding gradients. \n",
    "</p>\n"
   ]
  },
  {
   "cell_type": "code",
   "execution_count": 3,
   "metadata": {
    "colab": {
     "base_uri": "https://localhost:8080/",
     "height": 187
    },
    "colab_type": "code",
    "id": "MgcXdmPN3km6",
    "outputId": "364e6c98-b495-4a18-ee17-b9e7602334f0"
   },
   "outputs": [
    {
     "name": "stdout",
     "output_type": "stream",
     "text": [
      "\u001b[1;34m*=*=*=*=*=*=*=*=*=*=*=*=*=*=*=*=*=*=*=*=*=*=*=*=*=*=*=*=*=*=*=*=*=*=*=*=*=*=*=*=*=*=*=*=*=*=*=*=*=*=*=*=*=*=*=*=*=*=*=*=\n",
      "\u001b[0;0m\u001b[1;31m*=*=*=*=*=*=*=*=*=*=*=*=*=*=*=*=*=*=*=*=*=*=*=*=*=*=*=*=*=*=*=*=*=*=*=*=*=*=*=*=*=*=*=*=*=*=*=*=*=*=*=*=*=*=*=*=*=*=*=*=\n",
      "\u001b[0;0m\u001b[;1mTensor initialization:\n",
      "\u001b[0;0mtensor([]) Empty Tensor\n",
      "tensor([0])  ,The shape is torch.Size([1])\n",
      "tensor([1, 2, 3, 4])  ,The shape is torch.Size([4])\n",
      "tensor([[1, 2],\n",
      "        [4, 5]])  ,The shape is torch.Size([2, 2])\n",
      "\u001b[1;34m*=*=*=*=*=*=*=*=*=*=*=*=*=*=*=*=*=*=*=*=*=*=*=*=*=*=*=*=*=*=*=*=*=*=*=*=*=*=*=*=*=*=*=*=*=*=*=*=*=*=*=*=*=*=*=*=*=*=*=*=\n",
      "\u001b[0;0m\u001b[1;31m*=*=*=*=*=*=*=*=*=*=*=*=*=*=*=*=*=*=*=*=*=*=*=*=*=*=*=*=*=*=*=*=*=*=*=*=*=*=*=*=*=*=*=*=*=*=*=*=*=*=*=*=*=*=*=*=*=*=*=*=\n",
      "\u001b[0;0m"
     ]
    }
   ],
   "source": [
    "print_colored_line(BLUE)\n",
    "print_colored_line(RED)\n",
    "###################################################################\n",
    "\n",
    "print_colored_text(\"Tensor initialization:\", color = BOLD)\n",
    "# empty tensor\n",
    "T = torch.Tensor()\n",
    "print(T, \"Empty Tensor\")\n",
    "\n",
    "# 0-dimensional tensor - to hold a number\n",
    "t0 = torch.tensor([0])\n",
    "print(t0, \" ,The shape is {}\".format(t0.shape))\n",
    "\n",
    "# 1-dimensional tensor - to hold vectors \n",
    "t1 = torch.tensor([1, 2, 3, 4])\n",
    "print(t1, \" ,The shape is {}\".format(t1.shape))\n",
    "\n",
    "# 2-dimensional tensor - to hold matricies \n",
    "t2 = torch.tensor([[1,2], [4,5]])\n",
    "print(t2, \" ,The shape is {}\".format(t2.shape))\n",
    "\n",
    "## .\n",
    "## .\n",
    "## .\n",
    "\n",
    "###################################################################\n",
    "\n",
    "print_colored_line(BLUE)\n",
    "print_colored_line(RED)"
   ]
  },
  {
   "cell_type": "markdown",
   "metadata": {
    "colab_type": "text",
    "id": "gJ-0Nauh3km_"
   },
   "source": [
    "<h1 style=\"font-family:verdana;font-size:150%;text-align:left;color:#993333\"> Operations On Tensors </h1>"
   ]
  },
  {
   "cell_type": "markdown",
   "metadata": {
    "colab_type": "text",
    "id": "wZnOwRRM3knB"
   },
   "source": [
    "### Generally any operation we can do on a matrix or on a vector, we can do it on a Pytorch Tensor. \n",
    "#### This includes but not limited to: \n",
    "\n",
    "- Math operations (element wise, and matrix operations) \n",
    "    we can add tensors, subtract them, multiply ... etc \n",
    "    \n",
    "- Logical operations. \n",
    "\n",
    "- Taking gradients with repsect to the tensor. \n",
    "\n",
    "\n",
    "\n",
    "\n"
   ]
  },
  {
   "cell_type": "markdown",
   "metadata": {
    "colab_type": "text",
    "id": "rBRd_m3_3knC"
   },
   "source": [
    "\n",
    "<h1 style=\"font-family:verdana;font-size:150%;text-align:Center;color:#993333\"> Computation Graph </h1>\n",
    "\n",
    "<p style=\"font-family:verdana;font-size:100%;text-align:left;color:black; border:3px; border-style:solid; border-color:gray; padding: 1em; \"> \n",
    "Whenever we define a series of operations to tensors. Pytorch creates a computation graph of the operation. \n",
    "And this is useful because we can compute the gradient of the outcome of the operation with repect to the constituent tensors. \n",
    "\n",
    "</p>\n",
    "\n",
    "\n",
    "<h1 style=\"font-family:verdana;font-size:120%;text-align:left;color:BLUE\"> Example of a computation graph: </h1>\n",
    "\n"
   ]
  },
  {
   "cell_type": "markdown",
   "metadata": {
    "colab_type": "text",
    "id": "pE-zXNA_3knE"
   },
   "source": [
    "#### let's take the derivative of the operation $Dot = a.b$ with respect to a&b \n",
    "#### In matrix notation this operation is $a^{T}×b$ where the square operation is a point wise square\n",
    "### $\\frac{\\partial \\bf{ (Dot) }}{\\partial a} = b$\n",
    "### $\\frac{\\partial \\bf{ (Dot) }}{\\partial b} = a$\n",
    "\n"
   ]
  },
  {
   "cell_type": "code",
   "execution_count": 5,
   "metadata": {
    "colab": {
     "base_uri": "https://localhost:8080/",
     "height": 323
    },
    "colab_type": "code",
    "id": "1Ge_xH4K3knG",
    "outputId": "8b61702d-114d-457d-e22d-9b06c61decaf"
   },
   "outputs": [
    {
     "name": "stdout",
     "output_type": "stream",
     "text": [
      "\u001b[0;32m*=*=*=*=*=*=*=*=*=*=*=*=*=*=*=*=*=*=*=*=*=*=*=*=*=*=*=*=*=*=*=*=*=*=*=*=*=*=*=*=*=*=*=*=*=*=*=*=*=*=*=*=*=*=*=*=*=*=*=*=\n",
      "\u001b[0;0m\u001b[1;34m*=*=*=*=*=*=*=*=*=*=*=*=*=*=*=*=*=*=*=*=*=*=*=*=*=*=*=*=*=*=*=*=*=*=*=*=*=*=*=*=*=*=*=*=*=*=*=*=*=*=*=*=*=*=*=*=*=*=*=*=\n",
      "\u001b[0;0mThe result of the dot product is:  tensor([[80.]], grad_fn=<MmBackward>)\n",
      " \n",
      "The gradient of a is: \n",
      "tensor([[6.],\n",
      "        [7.],\n",
      "        [8.],\n",
      "        [9.]])\n",
      " \n",
      "The gradinet of b is: \n",
      "tensor([[1.],\n",
      "        [2.],\n",
      "        [3.],\n",
      "        [4.]])\n",
      " \n",
      "\u001b[1;34m*=*=*=*=*=*=*=*=*=*=*=*=*=*=*=*=*=*=*=*=*=*=*=*=*=*=*=*=*=*=*=*=*=*=*=*=*=*=*=*=*=*=*=*=*=*=*=*=*=*=*=*=*=*=*=*=*=*=*=*=\n",
      "\u001b[0;0m\u001b[0;32m*=*=*=*=*=*=*=*=*=*=*=*=*=*=*=*=*=*=*=*=*=*=*=*=*=*=*=*=*=*=*=*=*=*=*=*=*=*=*=*=*=*=*=*=*=*=*=*=*=*=*=*=*=*=*=*=*=*=*=*=\n",
      "\u001b[0;0m"
     ]
    }
   ],
   "source": [
    "print_colored_line(GREEN)\n",
    "print_colored_line(BLUE)\n",
    "###################################################################\n",
    "\n",
    "\n",
    "a = torch.tensor([1.,2.,3.,4.]).reshape(-1,1)\n",
    "b = torch.tensor([6.,7.,8.,9.]).reshape(-1,1)\n",
    "c = torch.tensor([10.,11.,12.]).reshape(-1,1)\n",
    "# by default, the gradients are not considered in the graph to save space and compuation \n",
    "a.requires_grad = True \n",
    "b.requires_grad = True \n",
    "\n",
    "# consider a dot prodct operation\n",
    "\n",
    "Dot = a.t()@b\n",
    "\n",
    "print(\"The result of the dot product is: \", Dot)\n",
    "print(\" \")\n",
    "Dot.backward()\n",
    "\n",
    "# notice that the gradient has the same shape as the input vector \n",
    "print(\"The gradient of a is: \")\n",
    "print(a.grad)\n",
    "print(\" \")\n",
    "\n",
    "print(\"The gradinet of b is: \")\n",
    "print(b.grad)\n",
    "print(\" \")\n",
    "###################################################################\n",
    "print_colored_line(BLUE)\n",
    "print_colored_line(GREEN)\n"
   ]
  },
  {
   "cell_type": "markdown",
   "metadata": {
    "colab_type": "text",
    "id": "WNw5rGN03knL"
   },
   "source": [
    "<h1 style=\"font-family:verdana;font-size:200%;text-align:center;background-color:#f2f2f2;color: #660066\">Task: Spiral classification</h1>"
   ]
  },
  {
   "cell_type": "markdown",
   "metadata": {
    "colab_type": "text",
    "id": "3q7Hnpnh3knO"
   },
   "source": [
    "<h1 style=\"font-family:verdana;font-size:150%;text-align:left;color:#993333\"> Part1: The Data </h1>\n",
    "#### Don't pay a lot of attention to how we generate the data. Just take a look at train_x and train_y"
   ]
  },
  {
   "cell_type": "code",
   "execution_count": 0,
   "metadata": {
    "colab": {},
    "colab_type": "code",
    "id": "wci50Oe33knP"
   },
   "outputs": [],
   "source": [
    "set_default()\n",
    "device = torch.device(\"cuda:0\" if torch.cuda.is_available() else \"cpu\")\n",
    "\n",
    "seed = 12345\n",
    "random.seed(seed)\n",
    "torch.manual_seed(seed)\n",
    "N = 1000  # num_samples_per_class\n",
    "D = 2  # dimensions\n",
    "C = 5  # num_classes\n",
    "H = 100  # num_hidden_units\n"
   ]
  },
  {
   "cell_type": "code",
   "execution_count": 9,
   "metadata": {
    "colab": {
     "base_uri": "https://localhost:8080/",
     "height": 68
    },
    "colab_type": "code",
    "id": "2kR9DVDx3knT",
    "outputId": "6e3ed3d5-c028-41db-82a0-70cd63da7bb1"
   },
   "outputs": [
    {
     "name": "stdout",
     "output_type": "stream",
     "text": [
      "Shapes:\n",
      "Train_X: (5000, 2)\n",
      "Train_Y: (5000,)\n"
     ]
    }
   ],
   "source": [
    "train_x = torch.zeros(N * C, D).to(device)\n",
    "train_y = torch.zeros(N * C, dtype=torch.long).to(device)\n",
    "for c in range(C):\n",
    "    index = 0\n",
    "    t = torch.linspace(0, 1, N)\n",
    "    # When c = 0 and t = 0: start of linspace\n",
    "    # When c = 0 and t = 1: end of linpace\n",
    "    # This inner_var is for the formula inside sin() and cos() like sin(inner_var) and cos(inner_Var)\n",
    "    inner_var = torch.linspace(\n",
    "        # When t = 0\n",
    "        (2 * math.pi / C) * (c),\n",
    "        # When t = 1\n",
    "        (2 * math.pi / C) * (2 + c),\n",
    "        N\n",
    "    ) + torch.randn(N) * 0\n",
    "    \n",
    "    for ix in range(N * c, N * (c + 1)):\n",
    "        train_x[ix] = t[index] * torch.FloatTensor((\n",
    "            math.sin(inner_var[index]), math.cos(inner_var[index])\n",
    "        ))\n",
    "        train_y[ix] = c\n",
    "        index += 1\n",
    "\n",
    "print(\"Shapes:\")\n",
    "print(\"Train_X:\", tuple(train_x.size()))\n",
    "print(\"Train_Y:\", tuple(train_y.size()))"
   ]
  },
  {
   "cell_type": "code",
   "execution_count": 10,
   "metadata": {
    "colab": {
     "base_uri": "https://localhost:8080/",
     "height": 588
    },
    "colab_type": "code",
    "id": "pmvFrED73knb",
    "outputId": "eabab51c-ea4a-47a9-9f14-a05923669def"
   },
   "outputs": [
    {
     "data": {
      "image/png": "[encoded data removed]",
      "text/plain": [
       "<Figure size 720x720 with 1 Axes>"
      ]
     },
     "metadata": {
      "tags": []
     },
     "output_type": "display_data"
    }
   ],
   "source": [
    "plot_data(train_x, train_y)"
   ]
  },
  {
   "cell_type": "markdown",
   "metadata": {
    "colab_type": "text",
    "id": "7dy-TkCg3knf"
   },
   "source": [
    "<h1 style=\"font-family:verdana;font-size:150%;text-align:left;color:#993333\"> Part2: The Models </h1>"
   ]
  },
  {
   "cell_type": "markdown",
   "metadata": {
    "colab_type": "text",
    "collapsed": true,
    "id": "AEdmd0-u3knh"
   },
   "source": [
    "<h1 style=\"font-family:verdana;font-size:150%;text-align:Center;color:#993333\"> Why using Neural Networks? </h1>\n",
    "\n",
    "<h1 style=\"font-family:verdana;font-size:100%;text-align:left;color:#blue\"> To answer this question let's first try with logisitc regression and observe the outcome.  </h1>"
   ]
  },
  {
   "cell_type": "code",
   "execution_count": 0,
   "metadata": {
    "colab": {},
    "colab_type": "code",
    "id": "9vDaexL13kni"
   },
   "outputs": [],
   "source": [
    "## nn.sequential defines a sequential computation graph\n",
    "## nn.Linear defines a linear layer in the form of  (out= Ax +b) \n",
    "\n",
    "logistic_regression_model = nn.Sequential(\n",
    "nn.Linear(in_features = 2, out_features = C, bias = True))\n",
    "## optimizer is resonsilbe for taking the gradient and adding them to the model \n",
    "optimizer = optim.Adam(logistic_regression_model.parameters(), lr=1e-3)\n",
    "\n",
    "n_epochs = 128\n",
    "batch_size = 64\n",
    "\n",
    "for i in range (n_epochs):\n",
    "    for b in range(0, len(train_x), batch_size):\n",
    "        predictions = logistic_regression_model(train_x[b:b+batch_size])\n",
    "\n",
    "        loss = nn.CrossEntropyLoss()(predictions, train_y[b:b+batch_size])\n",
    "\n",
    "        optimizer.zero_grad()\n",
    "        loss.backward()\n",
    "        optimizer.step()\n",
    "\n"
   ]
  },
  {
   "cell_type": "code",
   "execution_count": 14,
   "metadata": {
    "colab": {
     "base_uri": "https://localhost:8080/",
     "height": 588
    },
    "colab_type": "code",
    "id": "NtvfxIIX3knm",
    "outputId": "5fe6f648-1f17-45f8-a25d-bbcef8a7edc2"
   },
   "outputs": [
    {
     "data": {
      "image/png": "[encoded data removed]",
      "text/plain": [
       "<Figure size 720x720 with 1 Axes>"
      ]
     },
     "metadata": {
      "tags": []
     },
     "output_type": "display_data"
    }
   ],
   "source": [
    "plot_model(train_x,train_y, logistic_regression_model)"
   ]
  },
  {
   "cell_type": "markdown",
   "metadata": {
    "colab_type": "text",
    "id": "Xd0-ahaO3knr"
   },
   "source": [
    "<h1 style=\"font-family:verdana;font-size:100%;text-align:left;color:red\"> Can you see the problem ?</h1>"
   ]
  },
  {
   "cell_type": "markdown",
   "metadata": {
    "colab_type": "text",
    "id": "0gs8M7fU3kns"
   },
   "source": [
    "<h1 style=\"font-family:verdana;font-size:150%;text-align:left;color:blue\"> Now lets build the FeedForward model </h1>\n",
    "\n",
    "#### first let's do it the hardway by inheriting from nn.Module class  \n",
    "\n"
   ]
  },
  {
   "cell_type": "code",
   "execution_count": 0,
   "metadata": {
    "colab": {},
    "colab_type": "code",
    "id": "nAwNMMgL3knu"
   },
   "outputs": [],
   "source": [
    "class NeuralClassifier(nn.Module):\n",
    "    ## Here we put all the computations we need to make, order doesn't matter. \n",
    "    def __init__(self):\n",
    "        super(NeuralClassifier, self).__init__()\n",
    "        \n",
    "        self.fc1 = nn.Linear(in_features=2, out_features = 5)\n",
    "        self.fc2 = nn.Linear(in_features= 5, out_features= 10)\n",
    "        self.fc3 = nn.Linear(in_features=10, out_features = 5)\n",
    "        self.fc4 = nn.Linear(in_features=5, out_features = C)\n",
    "        pass \n",
    "    \n",
    "    ## Here we build our computation graph, there should be a logical order\n",
    "    def forward(self, x):\n",
    "        after_fc1 = self.fc1(x)\n",
    "        after_fc1 = nn.Sigmoid()(after_fc1)\n",
    "        \n",
    "        after_fc2 = self.fc2(after_fc1)\n",
    "        after_fc2 = nn.Sigmoid()(after_fc2)\n",
    "        \n",
    "        after_fc3 = self.fc3(after_fc2)\n",
    "        after_fc3 = nn.Sigmoid()(after_fc3)\n",
    "        \n",
    "        after_fc4 = self.fc4(after_fc3)\n",
    "        \n",
    "        return after_fc4\n",
    "        "
   ]
  },
  {
   "cell_type": "code",
   "execution_count": 0,
   "metadata": {
    "colab": {},
    "colab_type": "code",
    "id": "t3eVcpw13knx"
   },
   "outputs": [],
   "source": [
    "neural_classifier = NeuralClassifier()\n",
    "\n",
    "optimizer = optim.Adam(neural_classifier.parameters(), lr=1e-2)\n",
    "\n",
    "n_epochs = 512\n",
    "b_size = 512\n",
    "for i in range (n_epochs):\n",
    "    for b in range(0, len(train_x), batch_size):\n",
    "        predictions = neural_classifier(train_x[b:b+batch_size])\n",
    "\n",
    "        loss = nn.CrossEntropyLoss()(predictions, train_y[b:b+batch_size])\n",
    "\n",
    "        optimizer.zero_grad()\n",
    "        loss.backward()\n",
    "        optimizer.step()"
   ]
  },
  {
   "cell_type": "code",
   "execution_count": 0,
   "metadata": {
    "colab": {},
    "colab_type": "code",
    "id": "L0Q7BSya3kn5",
    "outputId": "630deb5e-9551-421f-d384-693f94b14f14"
   },
   "outputs": [
    {
     "data": {
      "image/png": "[encoded data removed]",
      "text/plain": [
       "<matplotlib.figure.Figure at 0x22dcb8fe80>"
      ]
     },
     "metadata": {
      "tags": []
     },
     "output_type": "display_data"
    }
   ],
   "source": [
    "plot_model(train_x, train_y, neural_classifier)"
   ]
  },
  {
   "cell_type": "markdown",
   "metadata": {
    "colab_type": "text",
    "id": "HBmRhy-R3kn-"
   },
   "source": [
    "\n",
    "<h1 style=\"font-family:verdana;font-size:100%;text-align:left;color:#663300\">What do you notice about the decision boundary ?</h1>\n",
    "<h1 style=\"font-family:verdana;font-size:100%;text-align:left;color:#663300\">What's the difference between the feedforward classifier and the logitic regression (or softmax) classifiers ? </h1>\n",
    "\n"
   ]
  },
  {
   "cell_type": "markdown",
   "metadata": {
    "colab_type": "text",
    "id": "9nIk6xmc3kn_"
   },
   "source": [
    "<h1 style=\"font-family:verdana;font-size:150%;text-align:center;background-color:#f2f2f2;color:#993333; border:2px; border-style:solid; border-color:gray; padding: 1em\"> WHY ? </h1>"
   ]
  },
  {
   "cell_type": "markdown",
   "metadata": {
    "colab_type": "text",
    "id": "HynsOvqR3koB"
   },
   "source": [
    "<h1 style=\"font-family:verdana;font-size:150%;text-align:left;color:#993333\"> Part3: The Interpretation </h1>"
   ]
  },
  {
   "cell_type": "markdown",
   "metadata": {
    "colab_type": "text",
    "id": "m1Dw2azO3koE"
   },
   "source": [
    "<h1 style=\"font-family:verdana;font-size:120%;text-align:left;color:blue\">× Input space prespective. </h1>\n",
    "<h1 style=\"font-family:verdana;font-size:120%;text-align:left;color:blue\">× Decision boundary prespective. </h1>\n",
    "\n"
   ]
  },
  {
   "cell_type": "markdown",
   "metadata": {
    "colab_type": "text",
    "id": "zPXz6cOJ3koF"
   },
   "source": [
    "\n",
    "<h1 style=\"font-family:verdana;font-size:100%;text-align:center;color:blue\"> Note about the optimiality </h1>\n",
    "<p style=\"font-family:verdana;font-size:100%;text-align:left;color:black; border:3px; border-style:solid; border-color:gray; padding: 1em; \"> \n",
    "Although the logisitc or softmax classifiers are linear in the feature space, they're optimal. i.e. we can find the global optima (the best possible linear classifier).\n",
    "However, in Feedforward networks, we can generally find better classifiers, but we don't know if it's the best possible classifier or not and we don't know if our optima is the global optima or not, typically we get stuck in a local optima. \n",
    "\n",
    "</p>\n"
   ]
  },
  {
   "cell_type": "markdown",
   "metadata": {
    "colab_type": "text",
    "id": "y4L5VBi83koH"
   },
   "source": [
    "<h1 style=\"font-family:verdana;font-size:200%;text-align:center;background-color:#f2f2f2; color:#00804d\">wrap up and live coding</h1>"
   ]
  }
 ],
 "metadata": {
  "colab": {
   "name": "Intro to feedforward nets.ipynb",
   "provenance": []
  },
  "kernelspec": {
   "display_name": "Python 3",
   "language": "python",
   "name": "python3"
  },
  "language_info": {
   "codemirror_mode": {
    "name": "ipython",
    "version": 3
   },
   "file_extension": ".py",
   "mimetype": "text/x-python",
   "name": "python",
   "nbconvert_exporter": "python",
   "pygments_lexer": "ipython3",
   "version": "3.8.8"
  }
 },
 "nbformat": 4,
 "nbformat_minor": 1
}
