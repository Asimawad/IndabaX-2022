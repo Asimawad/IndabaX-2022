{
  "cells": [
    {
      "cell_type": "markdown",
      "metadata": {
        "id": "qJhyJlbTrbrr"
      },
      "source": [
        "#PyTorch\n",
        "**Day 2: Basics and PyTorch**\n",
        "\n"
      ]
    },
    {
      "cell_type": "markdown",
      "metadata": {
        "id": "kZuTAAWcRcJe"
      },
      "source": [
        "---\n",
        "# Section 1: Objectives and Setup\n",
        "\n",
        "# Tutorial Objectives\n",
        "\n",
        "Then have a few specific objectives for this tutorial:\n",
        "* Learn about PyTorch and tensors\n",
        "* Tensor Manipulations\n",
        "* Data Loading\n",
        "* GPUs and Cuda Tensors\n",
        "* Train NaiveNet\n",
        "\n",
        "# Setup\n",
        "Throughout this tutorial, there are setup cells. These cells will import the required Python packages (e.g., PyTorch, NumPy); set global or environment variables, and load in helper functions for things like plotting.\n",
        "\n",
        "Be sure to run all of the cells in the setup section. Feel free to expand them and have a look at what you are loading in, but you should be able to fulfill the learning objectives of the tutorial without having to look at these cells.\n",
        "\n",
        "If you start building your own projects built on this code base we highly recommend looking at them in more detail."
      ]
    },
    {
      "cell_type": "code",
      "execution_count": null,
      "metadata": {
        "id": "4YdaykTFrbrz"
      },
      "outputs": [],
      "source": [
        "# Imports\n",
        "import time\n",
        "import random\n",
        "import numpy as np\n",
        "import pandas as pd\n",
        "import matplotlib.pyplot as plt\n",
        "\n",
        "# PyTorch libraries\n",
        "import torch\n",
        "from torch import nn\n",
        "from torchvision import datasets\n",
        "from torch.utils.data import DataLoader\n",
        "from torchvision.transforms import ToTensor"
      ]
    },
    {
      "cell_type": "code",
      "execution_count": null,
      "metadata": {
        "id": "tVaWlngOrbrz"
      },
      "outputs": [],
      "source": [
        "# @title Figure Settings\n",
        "import ipywidgets as widgets\n",
        "%config InlineBackend.figure_format = 'retina'\n",
        "plt.style.use(\"https://raw.githubusercontent.com/Asimawad/IndabaX2022/main/a.mplstyle\")"
      ]
    },
    {
      "cell_type": "code",
      "execution_count": null,
      "metadata": {
        "cellView": "form",
        "id": "ytfmIrg5rbrz"
      },
      "outputs": [],
      "source": [
        "# @title Helper Functions\n",
        "\n",
        "def checkExercise1(A, B, C, D):\n",
        "  \"\"\"\n",
        "  Helper function for checking Exercise 1.\n",
        "\n",
        "  Args:\n",
        "    A: torch.Tensor\n",
        "      Torch Tensor of shape (20, 21) consisting of ones.\n",
        "    B: torch.Tensor\n",
        "      Torch Tensor of size([3,4])\n",
        "    C: torch.Tensor\n",
        "      Torch Tensor of size([20,21])\n",
        "    D: torch.Tensor\n",
        "      Torch Tensor of size([19])\n",
        "\n",
        "  Returns:\n",
        "    Nothing.\n",
        "  \"\"\"\n",
        "  assert torch.equal(A.to(int),torch.ones(20, 21).to(int)), \"Got: {A} \\n Expected: {torch.ones(20, 21)} (shape: {torch.ones(20, 21).shape})\"\n",
        "  assert np.array_equal(B.numpy(),np.vander([1, 2, 3], 4)), \"Got: {B} \\n Expected: {np.vander([1, 2, 3], 4)} (shape: {np.vander([1, 2, 3], 4).shape})\"\n",
        "  assert C.shape == (20, 21), \"Got: {C} \\n Expected (shape: {(20, 21)})\"\n",
        "  assert torch.equal(D, torch.arange(4, 41, step=2)), \"Got {D} \\n Expected: {torch.arange(4, 41, step=2)} (shape: {torch.arange(4, 41, step=2).shape})\"\n",
        "  print(\"All correct\")\n",
        "\n",
        "def timeFun(f, dim, iterations, device='cpu'):\n",
        "  \"\"\"\n",
        "  Helper function to calculate amount of time taken per instance on CPU/GPU\n",
        "\n",
        "  Args:\n",
        "    f: BufferedReader IO instance\n",
        "      Function name for which to calculate computational time complexity\n",
        "    dim: Integer\n",
        "      Number of dimensions in instance in question\n",
        "    iterations: Integer\n",
        "      Number of iterations for instance in question\n",
        "    device: String\n",
        "      Device on which respective computation is to be run\n",
        "\n",
        "  Returns:\n",
        "    Nothing\n",
        "  \"\"\"\n",
        "  iterations = iterations\n",
        "  t_total = 0\n",
        "  for _ in range(iterations):\n",
        "    start = time.time()\n",
        "    f(dim, device)\n",
        "    end = time.time()\n",
        "    t_total += end - start\n",
        "\n",
        "  if device == 'cpu':\n",
        "    print(f\"time taken for {iterations} iterations of {f.__name__}({dim}, {device}): {t_total:.5f}\")\n",
        "  else:\n",
        "    print(f\"time taken for {iterations} iterations of {f.__name__}({dim}, {device}): {t_total:.5f}\")"
      ]
    },
    {
      "cell_type": "markdown",
      "metadata": {
        "id": "SujGIEC0rbr2"
      },
      "source": [
        "\n",
        "\n",
        "# Section 2: The Basics of PyTorch\n",
        "\n",
        "\n",
        "# **Important note: Colab users**\n",
        "\n",
        "*Scratch Code Cells*\n",
        "\n",
        "If you want to quickly try out something or take a look at the data, you can use scratch code cells. They allow you to run Python code, but will not mess up the structure of your notebook.\n",
        "\n",
        "To open a new scratch cell go to *Insert* → *Scratch code cell*."
      ]
    },
    {
      "cell_type": "markdown",
      "metadata": {
        "id": "QR-asU8Mrbr2"
      },
      "source": [
        "PyTorch is a Python-based scientific computing package targeted at two sets of\n",
        "audiences:\n",
        "\n",
        "-  A replacement for NumPy optimized for the power of GPUs\n",
        "-  A deep learning platform that provides significant flexibility\n",
        "   and speed\n",
        "\n",
        "At its core, PyTorch provides a few key features:\n",
        "\n",
        "- A multidimensional [Tensor](https://pytorch.org/docs/stable/tensors.html) object, similar to [NumPy Array](https://numpy.org/doc/stable/reference/generated/numpy.ndarray.html) but with GPU acceleration.\n",
        "- An optimized **autograd** engine for automatically computing derivatives.\n",
        "- A clean, modular API for building and deploying **deep learning models**.\n",
        "\n",
        "You can find more information about PyTorch in the Appendix."
      ]
    },
    {
      "cell_type": "markdown",
      "metadata": {
        "id": "brkmy7zfrbr2"
      },
      "source": [
        "## Section 2.1: Creating Tensors\n"
      ]
    },
    {
      "cell_type": "markdown",
      "metadata": {
        "id": "pKlDCjlSrbr3"
      },
      "source": [
        "**Construct tensors directly:**\n",
        "\n",
        "---\n",
        "\n"
      ]
    },
    {
      "cell_type": "code",
      "execution_count": null,
      "metadata": {
        "id": "8EkwVbzqrbr3"
      },
      "outputs": [],
      "source": [
        "# We can construct a tensor directly from some common python iterables,\n",
        "# such as list and tuple nested iterables can also be handled as long as the\n",
        "# dimensions are compatible\n",
        "\n",
        "# tensor from a list\n",
        "a = torch.tensor([0, 1, 2])\n",
        "\n",
        "#tensor from a tuple of tuples\n",
        "b = ((1.0, 1.1), (1.2, 1.3))\n",
        "b = torch.tensor(b)\n",
        "\n",
        "# tensor from a numpy array\n",
        "c = np.ones([2, 3])\n",
        "c = torch.tensor(c)\n",
        "\n",
        "print(f\"Tensor a: {a}\")\n",
        "print(f\"Tensor b: {b}\")\n",
        "print(f\"Tensor c: {c}\")"
      ]
    },
    {
      "cell_type": "markdown",
      "metadata": {
        "id": "pwM4V_5_rbr4"
      },
      "source": [
        "**Some common tensor constructors:**\n",
        "\n",
        "---"
      ]
    },
    {
      "cell_type": "code",
      "execution_count": null,
      "metadata": {
        "id": "3iQ2U53srbr4"
      },
      "outputs": [],
      "source": [
        "# The numerical arguments we pass to these constructors\n",
        "# determine the shape of the output tensor\n",
        "\n",
        "x = torch.ones(5, 3)\n",
        "y = torch.zeros(2)\n",
        "z = torch.empty(1, 1, 5)\n",
        "print(f\"Tensor x: {x}\")\n",
        "print(f\"Tensor y: {y}\")\n",
        "print(f\"Tensor z: {z}\")"
      ]
    },
    {
      "cell_type": "markdown",
      "metadata": {
        "id": "Ev6r7WP_rbr4"
      },
      "source": [
        "Notice that `.empty()` does not return zeros, but seemingly random numbers. Unlike `.zeros()`, which initialises the elements of the tensor with zeros, `.empty()` just allocates the memory. It is hence a bit faster if you are looking to just create a tensor."
      ]
    },
    {
      "cell_type": "markdown",
      "metadata": {
        "id": "KBEmbkbBrbr4"
      },
      "source": [
        "**Creating random tensors and tensors like other tensors:**\n",
        "\n",
        "\n",
        "\n",
        "\n",
        "---"
      ]
    },
    {
      "cell_type": "code",
      "execution_count": null,
      "metadata": {
        "id": "36vnVvqRrbr4"
      },
      "outputs": [],
      "source": [
        "# There are also constructors for random numbers\n",
        "\n",
        "# Uniform distribution\n",
        "a = torch.rand(1, 3)\n",
        "\n",
        "# Normal distribution\n",
        "b = torch.randn(3, 4)\n",
        "\n",
        "# There are also constructors that allow us to construct\n",
        "# a tensor according to the above constructors, but with\n",
        "# dimensions equal to another tensor.\n",
        "\n",
        "c = torch.zeros_like(a)\n",
        "d = torch.rand_like(c)\n",
        "\n",
        "print(f\"Tensor a: {a}\")\n",
        "print(f\"Tensor b: {b}\")\n",
        "print(f\"Tensor c: {c}\")\n",
        "print(f\"Tensor d: {d}\")"
      ]
    },
    {
      "cell_type": "markdown",
      "metadata": {
        "id": "jO5G5Ki-rbr4"
      },
      "source": [
        "*Reproducibility*: \n",
        "\n",
        "- PyTorch Random Number Generator (RNG): You can use `torch.manual_seed()` to seed the RNG for all devices (both CPU and GPU):\n",
        "\n",
        "```python\n",
        "import torch\n",
        "torch.manual_seed(0)\n",
        "```\n",
        "- For custom operators, you might need to set python seed as well:\n",
        "\n",
        "```python\n",
        "import random\n",
        "random.seed(0)\n",
        "```\n",
        "\n",
        "- Random number generators in other libraries (e.g., NumPy):\n",
        "\n",
        "```python\n",
        "import numpy as np\n",
        "np.random.seed(0)\n",
        "```"
      ]
    },
    {
      "cell_type": "markdown",
      "metadata": {
        "id": "thJOPjtgrbr4"
      },
      "source": [
        "Here, we define for you a function called `set_seed` that does the job for you!"
      ]
    },
    {
      "cell_type": "code",
      "execution_count": null,
      "metadata": {
        "id": "qM0BYciKrbr4"
      },
      "outputs": [],
      "source": [
        "def set_seed(seed=None, seed_torch=True):\n",
        "  \"\"\"\n",
        "  Function that controls randomness. NumPy and random modules must be imported.\n",
        "\n",
        "  Args:\n",
        "    seed : Integer\n",
        "      A non-negative integer that defines the random state. Default is `None`.\n",
        "    seed_torch : Boolean\n",
        "      If `True` sets the random seed for pytorch tensors, so pytorch module\n",
        "      must be imported. Default is `True`.\n",
        "\n",
        "  Returns:\n",
        "    Nothing.\n",
        "  \"\"\"\n",
        "  if seed is None:\n",
        "    seed = np.random.choice(2 ** 32)\n",
        "  random.seed(seed)\n",
        "  np.random.seed(seed)\n",
        "  if seed_torch:\n",
        "    torch.manual_seed(seed)\n",
        "    torch.cuda.manual_seed_all(seed)\n",
        "    torch.cuda.manual_seed(seed)\n",
        "    torch.backends.cudnn.benchmark = False\n",
        "    torch.backends.cudnn.deterministic = True\n",
        "\n",
        "  print(f'Random seed {seed} has been set.')"
      ]
    },
    {
      "cell_type": "markdown",
      "metadata": {
        "id": "RW9wZgd4rbr5"
      },
      "source": [
        "Now, let's use the `set_seed` function in the previous example. Execute the cell multiple times to verify that the numbers printed are always the same."
      ]
    },
    {
      "cell_type": "code",
      "execution_count": null,
      "metadata": {
        "id": "ck7oX2ydrbr5"
      },
      "outputs": [],
      "source": [
        "def simplefun(seed=True, my_seed=None):\n",
        "  \"\"\"\n",
        "  Helper function to verify effectiveness of set_seed attribute\n",
        "\n",
        "  Args:\n",
        "    seed: Boolean\n",
        "      Specifies if seed value is provided or not\n",
        "    my_seed: Integer\n",
        "      Initializes seed to specified value\n",
        "\n",
        "  Returns:\n",
        "    Nothing\n",
        "  \"\"\"\n",
        "  if seed:\n",
        "    set_seed(seed=my_seed)\n",
        "\n",
        "  # uniform distribution\n",
        "  a = torch.rand(1, 3)\n",
        "  # normal distribution\n",
        "  b = torch.randn(3, 4)\n",
        "\n",
        "  print(\"Tensor a: \", a)\n",
        "  print(\"Tensor b: \", b)"
      ]
    },
    {
      "cell_type": "code",
      "execution_count": null,
      "metadata": {
        "id": "VPMDCgHfrbr5"
      },
      "outputs": [],
      "source": [
        "simplefun(seed=True, my_seed=2022)  # Turn `seed` to `False` or change `my_seed`"
      ]
    },
    {
      "cell_type": "markdown",
      "metadata": {
        "id": "0qNH9_Itrbr5"
      },
      "source": [
        "**Numpy-like number ranges:**\n",
        "---\n",
        "The ```.arange()``` and ```.linspace()``` behave how you would expect them to if you are familar with numpy."
      ]
    },
    {
      "cell_type": "code",
      "execution_count": null,
      "metadata": {
        "id": "qszeBAArrbr5"
      },
      "outputs": [],
      "source": [
        "a = torch.arange(0, 10, step=1)\n",
        "b = np.arange(0, 10, step=1)\n",
        "\n",
        "c = torch.linspace(0, 5, steps=11)\n",
        "d = np.linspace(0, 5, num=11)\n",
        "\n",
        "print(f\"Tensor a: {a}\\n\")\n",
        "print(f\"Numpy array b: {b}\\n\")\n",
        "print(f\"Tensor c: {c}\\n\")\n",
        "print(f\"Numpy array d: {d}\\n\")"
      ]
    },
    {
      "cell_type": "markdown",
      "metadata": {
        "id": "a2hWLtIqrbr5"
      },
      "source": [
        "### Coding Exercise 2.1: Creating Tensors\n",
        "\n",
        "\n",
        "Below you will find some incomplete code. Fill in the missing code to construct the specified tensors.\n",
        "\n",
        "We want the tensors: \n",
        "\n",
        "$A:$ 20 by 21 tensor consisting of ones\n",
        "\n",
        "$B:$ a tensor with elements equal to the elements of numpy array $Z$\n",
        "\n",
        "$C:$ a tensor with the same number of elements as $A$ but with values $\n",
        "\\sim \\mathcal{U}(0,1)^\\dagger$\n",
        "\n",
        "$D:$ a 1D tensor containing the even numbers between 4 and 40 inclusive.\n",
        "\n",
        "<br>\n",
        "\n",
        "$^\\dagger$: $\\mathcal{U(\\alpha, \\beta)}$ denotes the [uniform distribution](https://en.wikipedia.org/wiki/Continuous_uniform_distribution) from $\\alpha$ to $\\beta$, with $\\alpha, \\beta \\in \\mathbb{R}$.\n"
      ]
    },
    {
      "cell_type": "code",
      "execution_count": null,
      "metadata": {
        "id": "MkDPBNvrrbr5"
      },
      "outputs": [],
      "source": [
        "def tensor_creation(Z):\n",
        "  \"\"\"\n",
        "  A function that creates various tensors.\n",
        "\n",
        "  Args:\n",
        "    Z: numpy.ndarray\n",
        "      An array of shape (3,4)\n",
        "\n",
        "  Returns:\n",
        "    A : Tensor\n",
        "      20 by 21 tensor consisting of ones\n",
        "    B : Tensor\n",
        "      A tensor with elements equal to the elements of numpy array Z\n",
        "    C : Tensor\n",
        "      A tensor with the same number of elements as A but with values ∼U(0,1)\n",
        "    D : Tensor\n",
        "      A 1D tensor containing the even numbers between 4 and 40 inclusive.\n",
        "  \"\"\"\n",
        "  #################################################\n",
        "  ## TODO: fill in the missing code\n",
        "  #################################################\n",
        "  A = ...\n",
        "  B = ...\n",
        "  C = ...\n",
        "  D = ...\n",
        "\n",
        "  return A, B, C, D\n",
        "\n",
        "\n",
        "\n",
        "# numpy array to copy later\n",
        "Z = np.vander([1, 2, 3], 4)\n",
        "\n",
        "# Uncomment below to check your function!\n",
        "# A, B, C, D = tensor_creation(Z)\n",
        "# checkExercise1(A, B, C, D)"
      ]
    },
    {
      "cell_type": "markdown",
      "metadata": {
        "id": "deaPvzT_rbr6"
      },
      "source": [
        "## Section 2.2: Operations in PyTorch\n",
        "\n",
        "**Tensor-Tensor operations**\n",
        "\n",
        "We can perform operations on tensors using methods under `torch.`"
      ]
    },
    {
      "cell_type": "code",
      "execution_count": null,
      "metadata": {
        "id": "pQqGA5dRrbr6"
      },
      "outputs": [],
      "source": [
        "a = torch.ones(5, 3)\n",
        "b = torch.rand(5, 3)\n",
        "c = torch.empty(5, 3)\n",
        "d = torch.empty(5, 3)\n",
        "\n",
        "# this only works if c and d already exist\n",
        "torch.add(a, b, out=c)\n",
        "\n",
        "# Pointwise Multiplication of a and b\n",
        "torch.multiply(a, b, out=d)\n",
        "\n",
        "print(c)\n",
        "print(d)"
      ]
    },
    {
      "cell_type": "markdown",
      "metadata": {
        "id": "phLd1B4-rbr6"
      },
      "source": [
        "However, in PyTorch, most common Python operators are overridden.\n",
        "The common standard arithmetic operators ($+$, $-$, $*$, $/$, and $**$) have all been lifted to elementwise operations"
      ]
    },
    {
      "cell_type": "code",
      "execution_count": null,
      "metadata": {
        "id": "Esr9hh6Trbr6"
      },
      "outputs": [],
      "source": [
        "x = torch.tensor([1, 2, 4, 8])\n",
        "y = torch.tensor([1, 2, 3, 4])\n",
        "x + y, x - y, x * y, x / y, x**y  # The `**` is the exponentiation operator"
      ]
    },
    {
      "cell_type": "markdown",
      "metadata": {
        "id": "uHPfnez2rbr7"
      },
      "source": [
        "**Tensor Methods**"
      ]
    },
    {
      "cell_type": "markdown",
      "metadata": {
        "id": "XUzauy0Zrbr7"
      },
      "source": [
        "Tensors also have a number of common arithmetic operations built in. A full list of **all** methods can be found  in the appendix (there are a lot!) \n",
        "\n",
        "All of these operations should have similar syntax to their numpy equivalents (feel free to skip if you already know this!)."
      ]
    },
    {
      "cell_type": "code",
      "execution_count": null,
      "metadata": {
        "id": "fI4YaLPHrbr7"
      },
      "outputs": [],
      "source": [
        "x = torch.rand(3, 3)\n",
        "print(x)\n",
        "print(\"\\n\")\n",
        "# sum() - note the axis is the axis you move across when summing\n",
        "print(f\"Sum of every element of x: {x.sum()}\")\n",
        "print(f\"Sum of the columns of x: {x.sum(axis=0)}\")\n",
        "print(f\"Sum of the rows of x: {x.sum(axis=1)}\")\n",
        "print(\"\\n\")\n",
        "\n",
        "print(f\"Mean value of all elements of x {x.mean()}\")\n",
        "print(f\"Mean values of the columns of x {x.mean(axis=0)}\")\n",
        "print(f\"Mean values of the rows of x {x.mean(axis=1)}\")"
      ]
    },
    {
      "cell_type": "markdown",
      "metadata": {
        "id": "rq_XJbSGrbr7"
      },
      "source": [
        "**Matrix Operations**\n",
        "\n",
        "The `@` symbol is overridden to represent matrix multiplication. You can also use `torch.matmul()` to multiply tensors. For dot multiplication, you can use `torch.dot()`, or manipulate the axes of your tensors and do matrix multiplication (we will cover that in the next section). \n",
        "\n",
        "Transposes of 2D tensors are obtained using `torch.t()` or `Tensor.T`. Note the lack of brackets for `Tensor.T` - it is an attribute, not a method.\n",
        "\n"
      ]
    },
    {
      "cell_type": "markdown",
      "metadata": {
        "id": "0FHpX0n7rbr7"
      },
      "source": [
        "### Coding Exercise 2.2 : Simple tensor operations\n",
        "\n",
        "Below are two expressions involving operations on matrices. \n",
        "\n",
        "\\begin{equation}\n",
        "\\textbf{A} = \n",
        "\\begin{bmatrix}2 &4 \\\\5 & 7 \n",
        "\\end{bmatrix} \n",
        "\\begin{bmatrix} 1 &1 \\\\2 & 3\n",
        "\\end{bmatrix} \n",
        "+ \n",
        "\\begin{bmatrix}10 & 10  \\\\ 12 & 1 \n",
        "\\end{bmatrix} \n",
        "\\end{equation}\n",
        "\n",
        "\n",
        "and\n",
        "\n",
        "\n",
        "\\begin{equation}\n",
        "b = \n",
        "\\begin{bmatrix} 3 \\\\ 5 \\\\ 7\n",
        "\\end{bmatrix} \\cdot \n",
        "\\begin{bmatrix} 2 \\\\ 4 \\\\ 8\n",
        "\\end{bmatrix}\n",
        "\\end{equation}\n",
        "\n",
        "The code block below that computes these expressions using PyTorch is incomplete - fill in the missing lines."
      ]
    },
    {
      "cell_type": "code",
      "execution_count": null,
      "metadata": {
        "id": "vkCiU1oUrbr7"
      },
      "outputs": [],
      "source": [
        "def simple_operations(a1: torch.Tensor, a2: torch.Tensor, a3: torch.Tensor):\n",
        "  \"\"\"\n",
        "  Helper function to demonstrate simple operations\n",
        "  i.e., Multiplication of tensor a1 with tensor a2 and then add it with tensor a3\n",
        "\n",
        "  Args:\n",
        "    a1: Torch tensor\n",
        "      Tensor of size ([2,2])\n",
        "    a2: Torch tensor\n",
        "      Tensor of size ([2,2])\n",
        "    a3: Torch tensor\n",
        "      Tensor of size ([2,2])\n",
        "\n",
        "  Returns:\n",
        "    answer: Torch tensor\n",
        "      Tensor of size ([2,2]) resulting from a1 multiplied with a2, added with a3\n",
        "  \"\"\"\n",
        "  ################################################\n",
        "  ## TODO:  complete the first computation using the argument matricies\n",
        "  answer = ...\n",
        "  return answer\n",
        "\n",
        "\n",
        "# Computing expression 1:\n",
        "\n",
        "# init our tensors\n",
        "a1 = torch.tensor([[2, 4], [5, 7]])\n",
        "a2 = torch.tensor([[1, 1], [2, 3]])\n",
        "a3 = torch.tensor([[10, 10], [12, 1]])\n",
        "## uncomment to test your function\n",
        "A = simple_operations(a1, a2, a3)\n",
        "print(A)"
      ]
    },
    {
      "cell_type": "markdown",
      "metadata": {
        "id": "h09_tlXNrbr7"
      },
      "source": [
        "```\n",
        "tensor([[20, 24],\n",
        "        [31, 27]])\n",
        "```"
      ]
    },
    {
      "cell_type": "code",
      "execution_count": null,
      "metadata": {
        "id": "GUEnJuSHrbr7"
      },
      "outputs": [],
      "source": [
        "def dot_product(b1: torch.Tensor, b2: torch.Tensor):\n",
        "  ###############################################\n",
        "  ## TODO:    \n",
        "  ###############################################\n",
        "  \"\"\"\n",
        "  Helper function to demonstrate dot product operation\n",
        "  Dot product is an algebraic operation that takes two equal-length sequences\n",
        "  (usually coordinate vectors), and returns a single number.\n",
        "  Geometrically, it is the product of the Euclidean magnitudes of the\n",
        "  two vectors and the cosine of the angle between them.\n",
        "\n",
        "  Args:\n",
        "    b1: Torch tensor\n",
        "      Tensor of size ([3])\n",
        "    b2: Torch tensor\n",
        "      Tensor of size ([3])\n",
        "\n",
        "  Returns:\n",
        "    product: Tensor\n",
        "      Tensor of size ([1]) resulting from b1 scalar multiplied with b2\n",
        "  \"\"\"\n",
        "  # Use torch.dot() to compute the dot product of two tensors\n",
        "  product = ...\n",
        "  return product\n",
        "\n",
        "# Computing expression 2:\n",
        "b1 = torch.tensor([3, 5, 7])\n",
        "b2 = torch.tensor([2, 4, 8])\n",
        "## Uncomment to test your function\n",
        "# b = dot_product(b1, b2)\n",
        "# print(b)"
      ]
    },
    {
      "cell_type": "markdown",
      "metadata": {
        "id": "qWyTBKGArbr8"
      },
      "source": [
        "```\n",
        "tensor(82)\n",
        "```"
      ]
    },
    {
      "cell_type": "markdown",
      "metadata": {
        "id": "qiyaM9U4rbr8"
      },
      "source": [
        "## Section 2.3 Manipulating Tensors in Pytorch"
      ]
    },
    {
      "cell_type": "markdown",
      "metadata": {
        "id": "L9Bi6LbRrbr-"
      },
      "source": [
        "**Indexing**\n",
        "\n",
        "Just as in numpy, elements in a tensor can be accessed by index. As in any numpy array, the first element has index 0 and ranges are specified to include the first to last_element-1. We can access elements according to their relative position to the end of the list by using negative indices. Indexing is also referred to as slicing.\n",
        "\n",
        "For example, `[-1]` selects the last element; `[1:3]` selects the second and the third elements, and `[:-2]` will select all elements excluding the last and second-to-last elements."
      ]
    },
    {
      "cell_type": "code",
      "execution_count": null,
      "metadata": {
        "id": "u9nL2tr8rbr-"
      },
      "outputs": [],
      "source": [
        "x = torch.arange(0, 10)\n",
        "print(x)\n",
        "print(x[-1])\n",
        "print(x[1:3])\n",
        "print(x[:-2])"
      ]
    },
    {
      "cell_type": "markdown",
      "metadata": {
        "id": "sbAsAuC-rbr-"
      },
      "source": [
        "When we have multidimensional tensors, indexing rules work the same way as NumPy."
      ]
    },
    {
      "cell_type": "code",
      "execution_count": null,
      "metadata": {
        "id": "Ml4EKUhqrbr-"
      },
      "outputs": [],
      "source": [
        "# make a 5D tensor\n",
        "x = torch.rand(1, 2, 3, 4, 5)\n",
        "\n",
        "print(f\" shape of x[0]:{x[0].shape}\")\n",
        "print(f\" shape of x[0][0]:{x[0][0].shape}\")\n",
        "print(f\" shape of x[0][0][0]:{x[0][0][0].shape}\")"
      ]
    },
    {
      "cell_type": "markdown",
      "metadata": {
        "id": "Otm9F8Czrbr-"
      },
      "source": [
        "**Flatten and reshape**\n",
        "\n",
        "There are various methods for reshaping tensors. It is common to have to express 2D data in 1D format. Similarly, it is also common to have to reshape a 1D tensor into a 2D tensor. We can achieve this with the `.flatten()` and `.reshape()` methods."
      ]
    },
    {
      "cell_type": "code",
      "execution_count": null,
      "metadata": {
        "id": "CqPkCbXurbr-"
      },
      "outputs": [],
      "source": [
        "z = torch.arange(12).reshape(6, 2)\n",
        "print(f\"Original z: \\n {z}\")\n",
        "\n",
        "# 2D -> 1D\n",
        "z = z.flatten()\n",
        "print(f\"Flattened z: \\n {z}\")\n",
        "\n",
        "# and back to 2D\n",
        "z = z.reshape(3, 4)\n",
        "print(f\"Reshaped (3x4) z: \\n {z}\")"
      ]
    },
    {
      "cell_type": "markdown",
      "metadata": {
        "id": "R9MzucVhrbr_"
      },
      "source": [
        "You will also see the `.view()` methods used a lot to reshape tensors. There is a subtle difference between `.view()` and `.reshape()`, though for now we will just use `.reshape()`. The documentation can be found in the Appendix."
      ]
    },
    {
      "cell_type": "markdown",
      "metadata": {
        "id": "2L7jJlN9rbr_"
      },
      "source": [
        "**Squeezing tensors**\n",
        "\n",
        "When processing batches of data, you will quite often be left with singleton dimensions. E.g., `[1,10]` or `[256, 1, 3]`. This dimension can quite easily mess up your matrix operations if you don't plan on it being there...\n",
        "\n",
        "In order to compress tensors along their singleton dimensions we can use the `.squeeze()` method. We can use the `.unsqueeze()` method to do the opposite."
      ]
    },
    {
      "cell_type": "code",
      "execution_count": null,
      "metadata": {
        "id": "aLL8Kczwrbr_"
      },
      "outputs": [],
      "source": [
        "x = torch.randn(1, 10)\n",
        "# printing the zeroth element of the tensor will not give us the first number!\n",
        "\n",
        "print(x.shape)\n",
        "print(f\"x[0]: {x[0]}\")"
      ]
    },
    {
      "cell_type": "markdown",
      "metadata": {
        "id": "gbcyZC8drbr_"
      },
      "source": [
        "Because of that pesky singleton dimension, `x[0]` gave us the first row instead!"
      ]
    },
    {
      "cell_type": "code",
      "execution_count": null,
      "metadata": {
        "id": "Q9dM4EOSrbr_"
      },
      "outputs": [],
      "source": [
        "# Let's get rid of that singleton dimension and see what happens now\n",
        "x = x.squeeze(0)\n",
        "print(x.shape)\n",
        "print(f\"x[0]: {x[0]}\")"
      ]
    },
    {
      "cell_type": "code",
      "execution_count": null,
      "metadata": {
        "id": "MgQZH48hrbr_"
      },
      "outputs": [],
      "source": [
        "# Adding singleton dimensions works a similar way, and is often used when tensors\n",
        "# being added need same number of dimensions\n",
        "\n",
        "y = torch.randn(5, 5)\n",
        "print(f\"Shape of y: {y.shape}\")\n",
        "\n",
        "# lets insert a singleton dimension\n",
        "y = y.unsqueeze(1)\n",
        "print(f\"Shape of y: {y.shape}\")"
      ]
    },
    {
      "cell_type": "markdown",
      "metadata": {
        "id": "vofP117mrbr_"
      },
      "source": [
        "**Permutation**\n",
        "\n",
        "Sometimes our dimensions will be in the wrong order! For example, we may be dealing with RGB images with dim $[3\\times48\\times64]$, but our pipeline expects the colour dimension to be the last dimension, i.e., $[48\\times64\\times3]$. To get around this we can use the `.permute()` method."
      ]
    },
    {
      "cell_type": "code",
      "execution_count": null,
      "metadata": {
        "id": "nBV_sQ9frbr_"
      },
      "outputs": [],
      "source": [
        "# `x` has dimensions [color,image_height,image_width]\n",
        "x = torch.rand(3, 48, 64)\n",
        "\n",
        "# We want to permute our tensor to be [ image_height , image_width , color ]\n",
        "x = x.permute(1, 2, 0)\n",
        "# permute(1,2,0) means:\n",
        "# The 0th dim of my new tensor = the 1st dim of my old tensor\n",
        "# The 1st dim of my new tensor = the 2nd\n",
        "# The 2nd dim of my new tensor = the 0th\n",
        "print(x.shape)"
      ]
    },
    {
      "cell_type": "markdown",
      "metadata": {
        "id": "sTXf-c4prbr_"
      },
      "source": [
        "You may also see `.transpose()` used. This works in a similar way as permute, but can only swap two dimensions at once."
      ]
    },
    {
      "cell_type": "markdown",
      "metadata": {
        "id": "NUELh1dCrbr_"
      },
      "source": [
        "**Concatenation**"
      ]
    },
    {
      "cell_type": "markdown",
      "metadata": {
        "id": "JtqWfAi8rbsA"
      },
      "source": [
        "In this example, we concatenate two matrices along rows (axis 0, the first element of the shape) vs. columns (axis 1, the second element of the shape). We can see that the first output tensor’s axis-0 length (`6`) is the sum of the two input tensors’ axis-0 lengths (`3+3`); while the second output tensor’s axis-1 length (`8`) is the sum of the two input tensors’ axis-1 lengths (`4+4`)."
      ]
    },
    {
      "cell_type": "code",
      "execution_count": null,
      "metadata": {
        "id": "1xeFZSU7rbsA"
      },
      "outputs": [],
      "source": [
        "# Create two tensors of the same shape\n",
        "x = torch.arange(12, dtype=torch.float32).reshape((3, 4))\n",
        "y = torch.tensor([[2.0, 1, 4, 3], [1, 2, 3, 4], [4, 3, 2, 1]])\n",
        "\n",
        "\n",
        "# Concatenate along rows\n",
        "cat_rows = torch.cat((x, y), dim=0)\n",
        "\n",
        "# Concatenate along columns\n",
        "cat_cols = torch.cat((x, y), dim=1)\n",
        "\n",
        "# Printing outputs\n",
        "print('Concatenated by rows: shape{} \\n {}'.format(list(cat_rows.shape), cat_rows))\n",
        "print('\\n Concatenated by colums: shape{}  \\n {}'.format(list(cat_cols.shape), cat_cols))"
      ]
    },
    {
      "cell_type": "markdown",
      "metadata": {
        "id": "FjdE5bMrrbsA"
      },
      "source": [
        "**Conversion to Other Python Objects**\n",
        "\n",
        "Converting a tensor to a numpy.ndarray, or vice versa, is easy, and the converted result does not share memory. This minor inconvenience is quite important: when you perform operations on the CPU or GPUs, you do not want to halt computation, waiting to see whether the NumPy package of Python might want to be doing something else with the same chunk of memory.\n"
      ]
    },
    {
      "cell_type": "code",
      "execution_count": null,
      "metadata": {
        "id": "XyYkeHFLrbsA"
      },
      "outputs": [],
      "source": [
        "x = torch.randn(5)\n",
        "print(f\"x: {x}  |  x type:  {x.type()}\")\n",
        "\n",
        "y = x.numpy()\n",
        "print(f\"y: {y}  |  y type:  {type(y)}\")\n",
        "\n",
        "z = torch.tensor(y)\n",
        "print(f\"z: {z}  |  z type:  {z.type()}\")"
      ]
    },
    {
      "cell_type": "markdown",
      "metadata": {
        "id": "m6t79u6OrbsA"
      },
      "source": [
        "To convert a size-1 tensor to a Python scalar, we can invoke the item function or Python’s built-in functions."
      ]
    },
    {
      "cell_type": "code",
      "execution_count": null,
      "metadata": {
        "id": "4gCOvMMBrbsA"
      },
      "outputs": [],
      "source": [
        "a = torch.tensor([3.5])\n",
        "a, a.item(), float(a), int(a)"
      ]
    },
    {
      "cell_type": "markdown",
      "metadata": {
        "id": "RrXl9qOzrbsA"
      },
      "source": [
        "### Coding Exercise 2.3: Manipulating Tensors\n",
        "Using a combination of the methods discussed above, complete the functions below."
      ]
    },
    {
      "cell_type": "markdown",
      "metadata": {
        "id": "qabG4rz5rbsA"
      },
      "source": [
        "**Function A** \n",
        "\n",
        "This function takes in two 2D tensors $A$ and $B$ and returns the column sum of A multiplied by the sum of all the elmements of $B$, i.e., a scalar, e.g.,\n",
        "\n",
        "\\begin{equation}\n",
        "  \\text{If }\n",
        "  A = \\begin{bmatrix}\n",
        "  1 & 1 \\\\\n",
        "  1 & 1\n",
        "  \\end{bmatrix}\n",
        "  \\text{and }\n",
        "  B = \\begin{bmatrix}\n",
        "  1 & 2 & 3 \\\\\n",
        "  1 & 2 & 3\n",
        "  \\end{bmatrix}\n",
        "  \\text{ then }\n",
        "  Out =  \\begin{bmatrix}\n",
        "  2 & 2\n",
        "  \\end{bmatrix} \\cdot 12 = \\begin{bmatrix}\n",
        "  24 & 24\n",
        "  \\end{bmatrix}\n",
        "\\end{equation}\n",
        "\n",
        "**Function B** \n",
        "\n",
        "This function takes in a square matrix $C$ and returns a 2D tensor consisting of a flattened $C$ with the index of each element appended to this tensor in the row dimension, e.g.,\n",
        "\n",
        "\\begin{equation}\n",
        "  \\text{If }\n",
        "  C = \\begin{bmatrix}\n",
        "  2 & 3 \\\\\n",
        "  -1 & 10\n",
        "  \\end{bmatrix}\n",
        "  \\text{ then }\n",
        "  Out = \\begin{bmatrix}\n",
        "  0 & 2 \\\\\n",
        "  1 & 3 \\\\\n",
        "  2 & -1 \\\\\n",
        "  3 & 10\n",
        "  \\end{bmatrix}\n",
        "\\end{equation}\n",
        "\n",
        "**Hint:** Pay close attention to singleton dimensions.\n",
        "\n",
        "**Function C**\n",
        "\n",
        "This function takes in two 2D tensors $D$ and $E$. If the dimensions allow it, this function returns the elementwise sum of $D$-shaped $E$, and $D$; else this function returns a 1D tensor that is the concatenation of the two tensors, e.g.,\n",
        "\n",
        "\\begin{equation}\n",
        "  \\text{If }\n",
        "  D = \\begin{bmatrix}\n",
        "  1 & -1 \\\\\n",
        "  -1 & 3\n",
        "  \\end{bmatrix}\n",
        "  \\text{and } \n",
        "  E = \\begin{bmatrix}\n",
        "  2 & 3 & 0 & 2 \\\\\n",
        "  \\end{bmatrix}\n",
        "  \\text{ then } \n",
        "  Out = \\begin{bmatrix}\n",
        "  3 & 2 \\\\\n",
        "  -1 & 5\n",
        "  \\end{bmatrix}\n",
        "\\end{equation}\n",
        "\n",
        "<br>\n",
        "\n",
        "\\begin{equation}\n",
        "  \\text{If }\n",
        "  D = \\begin{bmatrix}\n",
        "  1 & -1 \\\\\n",
        "  -1 & 3\n",
        "  \\end{bmatrix}\n",
        "  \\text{and }\n",
        "  E = \\begin{bmatrix}\n",
        "  2 & 3 & 0  \\\\\n",
        "  \\end{bmatrix}\n",
        "  \\text{ then }\n",
        "  Out = \\begin{bmatrix}\n",
        "  1 & -1 & -1 & 3  & 2 & 3 & 0  \n",
        "  \\end{bmatrix}\n",
        "\\end{equation}\n",
        "\n",
        "<br>\n",
        "\n",
        "**Hint:** `torch.numel()` is an easy way of finding the number of elements in a tensor."
      ]
    },
    {
      "cell_type": "code",
      "execution_count": null,
      "metadata": {
        "id": "HsVURf-mrbsB"
      },
      "outputs": [],
      "source": [
        "def functionA(my_tensor1, my_tensor2):\n",
        "  \"\"\"\n",
        "  This function takes in two 2D tensors `my_tensor1` and `my_tensor2`\n",
        "  and returns the column sum of\n",
        "  `my_tensor1` multiplied by the sum of all the elmements of `my_tensor2`,\n",
        "  i.e., a scalar.\n",
        "\n",
        "  Args:\n",
        "    my_tensor1: torch.Tensor\n",
        "    my_tensor2: torch.Tensor\n",
        "\n",
        "  Retuns:\n",
        "    output: torch.Tensor\n",
        "      The multiplication of the column sum of `my_tensor1` by the sum of\n",
        "      `my_tensor2`.\n",
        "  \"\"\"\n",
        "  ################################################\n",
        "  ## TODO: complete functionA\n",
        "  ################################################\n",
        "  # TODO multiplication the sum of the tensors\n",
        "  output = ...\n",
        "\n",
        "  return output\n",
        "\n",
        "\n",
        "def functionB(my_tensor):\n",
        "  \"\"\"\n",
        "  This function takes in a square matrix `my_tensor` and returns a 2D tensor\n",
        "  consisting of a flattened `my_tensor` with the index of each element\n",
        "  appended to this tensor in the row dimension.\n",
        "\n",
        "  Args:\n",
        "    my_tensor: torch.Tensor\n",
        "\n",
        "  Returns:\n",
        "    output: torch.Tensor\n",
        "      Concatenated tensor.\n",
        "  \"\"\"\n",
        "  ################################################\n",
        "  ## TODO :complete functionB\n",
        "  ################################################\n",
        "  # TODO flatten the tensor `my_tensor`\n",
        "  my_tensor = ...\n",
        "  # TODO create the idx tensor to be concatenated to `my_tensor`\n",
        "  idx_tensor = ...\n",
        "  # TODO concatenate the two tensors\n",
        "  output = ...\n",
        "\n",
        "  return output\n",
        "\n",
        "\n",
        "def functionC(my_tensor1, my_tensor2):\n",
        "  \"\"\"\n",
        "  This function takes in two 2D tensors `my_tensor1` and `my_tensor2`.\n",
        "  If the dimensions allow it, it returns the\n",
        "  elementwise sum of `my_tensor1`-shaped `my_tensor2`, and `my_tensor2`;\n",
        "  else this function returns a 1D tensor that is the concatenation of the\n",
        "  two tensors.\n",
        "\n",
        "  Args:\n",
        "    my_tensor1: torch.Tensor\n",
        "    my_tensor2: torch.Tensor\n",
        "\n",
        "  Returns:\n",
        "    output: torch.Tensor\n",
        "      Concatenated tensor.\n",
        "  \"\"\"\n",
        "  ################################################\n",
        "  ## TODO complete functionB\n",
        "  ################################################\n",
        "  # TODO check we can reshape `my_tensor2` into the shape of `my_tensor1`\n",
        "  if ...:\n",
        "    # TODO reshape `my_tensor2` into the shape of `my_tensor1`\n",
        "    my_tensor2 = ...\n",
        "    # TODO sum the two tensors\n",
        "    output = ...\n",
        "  else:\n",
        "    # TODO flatten both tensors\n",
        "    my_tensor1 = ...\n",
        "    my_tensor2 = ...\n",
        "    # TODO concatenate the two tensors in the correct dimension\n",
        "    output = ...\n",
        "\n",
        "  return output\n",
        "\n",
        "## Implement the functions above and then uncomment the following lines to test your code\n",
        "# print(functionA(torch.tensor([[1, 1], [1, 1]]), torch.tensor([[1, 2, 3], [1, 2, 3]])))\n",
        "# print(functionB(torch.tensor([[2, 3], [-1, 10]])))\n",
        "# print(functionC(torch.tensor([[1, -1], [-1, 3]]), torch.tensor([[2, 3, 0, 2]])))\n",
        "# print(functionC(torch.tensor([[1, -1], [-1, 3]]), torch.tensor([[2, 3, 0]])))"
      ]
    },
    {
      "cell_type": "markdown",
      "metadata": {
        "id": "X8CVhWyqrbsB"
      },
      "source": [
        "```\n",
        "tensor([24, 24])\n",
        "tensor([[ 0,  2],\n",
        "        [ 1,  3],\n",
        "        [ 2, -1],\n",
        "        [ 3, 10]])\n",
        "tensor([[ 3,  2],\n",
        "        [-1,  5]])\n",
        "tensor([ 1, -1, -1,  3,  2,  3,  0])\n",
        "```"
      ]
    },
    {
      "cell_type": "markdown",
      "metadata": {
        "id": "UIniMiA0rbsB"
      },
      "source": [
        "## Section 2.4: GPUs"
      ]
    },
    {
      "cell_type": "markdown",
      "metadata": {
        "id": "owRK_5wTrbsB"
      },
      "source": [
        "\n",
        "By default, when we create a tensor it will *not* live on the GPU! "
      ]
    },
    {
      "cell_type": "code",
      "execution_count": null,
      "metadata": {
        "id": "zm_el_AwrbsB"
      },
      "outputs": [],
      "source": [
        "x = torch.randn(10)\n",
        "print(x.device)"
      ]
    },
    {
      "cell_type": "markdown",
      "metadata": {
        "id": "TF3No2u2rbsB"
      },
      "source": [
        "When using Colab notebooks, by default, will not have access to a GPU. In order to start using GPUs we need to request one. We can do this by going to the runtime tab at the top of the page. \n",
        "\n",
        "By following *Runtime* → *Change runtime type* and selecting **GPU** from the *Hardware Accelerator* dropdown list, we can start playing with sending tensors to GPUs.\n",
        "\n",
        "Once you have done this your runtime will restart and you will need to rerun the first setup cell to reimport PyTorch. Then proceed to the next cell.\n",
        "\n",
        "For more information on the GPU usage policy you can view in the Appendix."
      ]
    },
    {
      "cell_type": "markdown",
      "metadata": {
        "id": "xLQASEiwrbsB"
      },
      "source": [
        "**Now we have a GPU.**\n"
      ]
    },
    {
      "cell_type": "markdown",
      "metadata": {
        "id": "BJEMyuWMrbsB"
      },
      "source": [
        "The cell below should return `True`."
      ]
    },
    {
      "cell_type": "code",
      "execution_count": null,
      "metadata": {
        "id": "IuHw3gairbsC"
      },
      "outputs": [],
      "source": [
        "print(torch.cuda.is_available())"
      ]
    },
    {
      "cell_type": "markdown",
      "metadata": {
        "id": "x5sjDLe8rbsC"
      },
      "source": [
        "[CUDA](https://developer.nvidia.com/cuda-toolkit) is an API developed by Nvidia for interfacing with GPUs. PyTorch provides us with a layer of abstraction, and allows us to launch CUDA kernels using pure Python.\n",
        "\n",
        "In short, we get the power of parallelizing our tensor computations on GPUs, whilst only writing (relatively) simple Python!\n",
        "\n",
        "Here, we define the function `set_device`, which returns the device use in the notebook, i.e., `cpu` or `cuda`. Unless otherwise specified, we use this function on top of every tutorial, and we store the device variable such as\n",
        "\n",
        "```python\n",
        "DEVICE = set_device()\n",
        "```\n",
        "\n",
        "Let's define the function using the PyTorch package `torch.cuda`, which is lazily initialized, so we can always import it, and use `is_available()` to determine if our system supports CUDA."
      ]
    },
    {
      "cell_type": "code",
      "execution_count": null,
      "metadata": {
        "id": "elGxBqxErbsC"
      },
      "outputs": [],
      "source": [
        "def set_device():\n",
        "  \"\"\"\n",
        "  Set the device. CUDA if available, CPU otherwise\n",
        "\n",
        "  Args:\n",
        "    None\n",
        "\n",
        "  Returns:\n",
        "    Nothing\n",
        "  \"\"\"\n",
        "  device = \"cuda\" if torch.cuda.is_available() else \"cpu\"\n",
        "  if device != \"cuda\":\n",
        "    print(\"GPU is not enabled in this notebook. \\n\"\n",
        "          \"If you want to enable it, in the menu under `Runtime` -> \\n\"\n",
        "          \"`Hardware accelerator.` and select `GPU` from the dropdown menu\")\n",
        "  else:\n",
        "    print(\"GPU is enabled in this notebook. \\n\"\n",
        "          \"If you want to disable it, in the menu under `Runtime` -> \\n\"\n",
        "          \"`Hardware accelerator.` and select `None` from the dropdown menu\")\n",
        "\n",
        "  return device"
      ]
    },
    {
      "cell_type": "markdown",
      "metadata": {
        "id": "cyChFkm-rbsC"
      },
      "source": [
        "Let's make some CUDA tensors!"
      ]
    },
    {
      "cell_type": "code",
      "execution_count": null,
      "metadata": {
        "id": "xPBDX-kfrbsC"
      },
      "outputs": [],
      "source": [
        "# common device agnostic way of writing code that can run on cpu OR gpu\n",
        "# that we provide for you in each of the tutorials\n",
        "DEVICE = set_device()\n",
        "\n",
        "# we can specify a device when we first create our tensor\n",
        "x = torch.randn(2, 2, device=DEVICE)\n",
        "print(x.dtype)\n",
        "print(x.device)\n",
        "\n",
        "# we can also use the .to() method to change the device a tensor lives on\n",
        "y = torch.randn(2, 2)\n",
        "print(f\"y before calling to() | device: {y.device} | dtype: {y.type()}\")\n",
        "\n",
        "y = y.to(DEVICE)\n",
        "print(f\"y after calling to() | device: {y.device} | dtype: {y.type()}\")"
      ]
    },
    {
      "cell_type": "markdown",
      "metadata": {
        "id": "M36kflZ0rbsC"
      },
      "source": [
        "**Operations between cpu tensors and cuda tensors**\n",
        "\n",
        "Note that the type of the tensor changed after calling `.to()`. What happens if we try and perform operations on tensors on devices?"
      ]
    },
    {
      "cell_type": "code",
      "execution_count": null,
      "metadata": {
        "id": "OrhtoCVnrbsC"
      },
      "outputs": [],
      "source": [
        "x = torch.tensor([0, 1, 2], device=DEVICE)\n",
        "y = torch.tensor([3, 4, 5], device=\"cpu\")\n",
        "\n",
        "## Uncomment the following line and run this cell\n",
        "# z = x + y"
      ]
    },
    {
      "cell_type": "markdown",
      "metadata": {
        "id": "rkHySaw4rbsC"
      },
      "source": [
        "We cannot combine CUDA tensors and CPU tensors in this fashion. If we want to compute an operation that combines tensors on different devices, we need to move them first! We can use the `.to()` method as before, or the `.cpu()` and `.cuda()` methods. Note that using the `.cuda()` will throw an error, if CUDA is not enabled in your machine.\n",
        "\n",
        "Generally, in this course, all Deep Learning is done on the GPU, and any computation is done on the CPU, so sometimes we have to pass things back and forth, so you'll see us call."
      ]
    },
    {
      "cell_type": "code",
      "execution_count": null,
      "metadata": {
        "id": "WAzsIMtmrbsC"
      },
      "outputs": [],
      "source": [
        "x = torch.tensor([0, 1, 2], device=DEVICE)\n",
        "y = torch.tensor([3, 4, 5], device=\"cpu\")\n",
        "z = torch.tensor([6, 7, 8], device=DEVICE)\n",
        "\n",
        "# moving to cpu\n",
        "x = x.to(\"cpu\")  # alternatively, you can use x = x.cpu()\n",
        "print(x + y)\n",
        "\n",
        "# moving to gpu\n",
        "y = y.to(DEVICE)  # alternatively, you can use y = y.cuda()\n",
        "print(y + z)"
      ]
    },
    {
      "cell_type": "markdown",
      "metadata": {
        "id": "8Bp1x73qrbsC"
      },
      "source": [
        "### Coding Exercise 2.4: Just how much faster are GPUs?\n",
        "\n",
        "Below is a simple function `simpleFun`. Complete this function, such that it performs the operations:\n",
        "\n",
        "- Elementwise multiplication\n",
        "\n",
        "- Matrix multiplication\n",
        "\n",
        "The operations should be able to perfomed on either the CPU or GPU specified by the parameter `device`. We will use the helper function `timeFun(f, dim, iterations, device)`."
      ]
    },
    {
      "cell_type": "code",
      "execution_count": null,
      "metadata": {
        "id": "s2zf-wX9rbsC"
      },
      "outputs": [],
      "source": [
        "dim = 10000\n",
        "iterations = 1"
      ]
    },
    {
      "cell_type": "code",
      "execution_count": null,
      "metadata": {
        "id": "BLEjUpd7rbsD"
      },
      "outputs": [],
      "source": [
        "def simpleFun(dim, device):\n",
        "  \"\"\"\n",
        "  Helper function to check device-compatiblity with computations\n",
        "\n",
        "  Args:\n",
        "    dim: Integer\n",
        "    device: String\n",
        "      \"cpu\" or \"cuda\"\n",
        "\n",
        "  Returns:\n",
        "    Nothing.\n",
        "  \"\"\"\n",
        "  ###############################################\n",
        "  ## TODO for students: recreate the function, but\n",
        "  ## ensure all computations happens on the `device`\n",
        "  ###############################################\n",
        "  # 2D tensor filled with uniform random numbers in [0,1), dim x dim\n",
        "  x = ...\n",
        "  # 2D tensor filled with uniform random numbers in [0,1), dim x dim\n",
        "  y = ...\n",
        "  # 2D tensor filled with the scalar value 2, dim x dim\n",
        "  z = ...\n",
        "\n",
        "  # elementwise multiplication of x and y\n",
        "  a = ...\n",
        "  # matrix multiplication of x and z\n",
        "  b = ...\n",
        "\n",
        "  del x\n",
        "  del y\n",
        "  del z\n",
        "  del a\n",
        "  del b\n",
        "\n",
        "\n",
        "## TODO: Implement the function above and uncomment the following lines to test your code\n",
        "# timeFun(f=simpleFun, dim=dim, iterations=iterations)\n",
        "# timeFun(f=simpleFun, dim=dim, iterations=iterations, device=DEVICE)"
      ]
    },
    {
      "cell_type": "markdown",
      "metadata": {
        "id": "3DC4XEMArbsD"
      },
      "source": [
        "Sample output (depends on your hardware)\n",
        "\n",
        "```\n",
        "time taken for 1 iterations of simpleFun(10000, cpu): 23.74070\n",
        "time taken for 1 iterations of simpleFun(10000, cuda): 0.87535\n",
        "```"
      ]
    },
    {
      "cell_type": "markdown",
      "metadata": {
        "id": "DBb7as48rbsD"
      },
      "source": [
        "**Discuss!**\n",
        "\n",
        "Try and reduce the dimensions of the tensors and increase the iterations. You can get to a point where the cpu only function is faster than the GPU function. Why might this be?"
      ]
    },
    {
      "cell_type": "markdown",
      "metadata": {
        "id": "BjzONKsArbsD"
      },
      "source": [
        "## Section 2.5: Datasets and Dataloaders"
      ]
    },
    {
      "cell_type": "markdown",
      "metadata": {
        "id": "YWYbr-YurbsD"
      },
      "source": [
        "When training neural network models you will be working with large amounts of data. Fortunately, PyTorch offers some great tools that help you organize and manipulate your data samples."
      ]
    },
    {
      "cell_type": "code",
      "execution_count": null,
      "metadata": {
        "id": "kJqgcusnrbsD"
      },
      "outputs": [],
      "source": [
        "# Import dataset and dataloaders related packages\n",
        "from torchvision import datasets\n",
        "from torchvision.transforms import ToTensor\n",
        "from torch.utils.data import DataLoader\n",
        "from torchvision.transforms import Compose, Grayscale"
      ]
    },
    {
      "cell_type": "markdown",
      "metadata": {
        "id": "zA2Y6-vPrbsD"
      },
      "source": [
        "**Datasets**\n",
        "\n",
        "The `torchvision` package gives you easy access to many of the publicly available datasets. Let's load the [CIFAR10](https://www.cs.toronto.edu/~kriz/cifar.html) dataset, which contains color images of 10 different classes, like vehicles and animals.\n",
        "\n",
        "Creating an object of type `datasets.CIFAR10` will automatically download and load all images from the dataset. The resulting data structure can be treated as a list containing data samples and their corresponding labels."
      ]
    },
    {
      "cell_type": "code",
      "execution_count": null,
      "metadata": {
        "id": "kDlZSnCirbsD"
      },
      "outputs": [],
      "source": [
        "# Download and load the images from the CIFAR10 dataset\n",
        "cifar10_data = datasets.CIFAR10(\n",
        "    root=\"data\",  # path where the images will be stored\n",
        "    download=True,  # all images should be downloaded\n",
        "    transform=ToTensor()  # transform the images to tensors\n",
        "    )\n",
        "\n",
        "# Print the number of samples in the loaded dataset\n",
        "print(f\"Number of samples: {len(cifar10_data)}\")\n",
        "print(f\"Class names: {cifar10_data.classes}\")"
      ]
    },
    {
      "cell_type": "markdown",
      "metadata": {
        "id": "va-44vMorbsE"
      },
      "source": [
        "We have 50,000 samples loaded. Now, let's take a look at one of them in detail. Each sample consists of an image and its corresponding label."
      ]
    },
    {
      "cell_type": "code",
      "execution_count": null,
      "metadata": {
        "id": "7h2bes0erbsE"
      },
      "outputs": [],
      "source": [
        "# Choose a random sample\n",
        "random.seed(2022)\n",
        "image, label = cifar10_data[random.randint(0, len(cifar10_data))]\n",
        "print(f\"Label: {cifar10_data.classes[label]}\")\n",
        "print(f\"Image size: {image.shape}\")"
      ]
    },
    {
      "cell_type": "markdown",
      "metadata": {
        "id": "-ek79n83rbsE"
      },
      "source": [
        "Color images are modeled as 3 dimensional tensors. The first dimension corresponds to the channels ($\\text{C}$) of the image (in this case we have RGB images). The second dimensions is the height ($\\text{H}$) of the image and the third is the width ($\\text{W}$). We can denote this image format as $\\text{C} \\times \\text{H} \\times \\text{W}$."
      ]
    },
    {
      "cell_type": "markdown",
      "metadata": {
        "id": "MzOWTN8frbsE"
      },
      "source": [
        "### Coding Exercise 2.5: Display an image from the dataset\n",
        "\n",
        "Let's try to display the image using `matplotlib`. The code below will not work, because `imshow` expects to have the image in a different format, i.e., $\\text{C} \\times \\text{H} \\times \\text{W}$.\n",
        "\n",
        "You need to reorder the dimensions of the tensor using the `permute` method of the tensor. PyTorch `torch.permute(*dims)` rearranges the original tensor according to the desired ordering and returns a new multidimensional rotated tensor. The size of the returned tensor remains the same as that of the original.\n",
        "\n",
        "**Code hint:**\n",
        "\n",
        "```python\n",
        "# create a tensor of size 2 x 4\n",
        "input_var = torch.randn(2, 4)\n",
        "# print its size and the tensor\n",
        "print(input_var.size())\n",
        "print(input_var)\n",
        "\n",
        "# dimensions permuted\n",
        "input_var = input_var.permute(1, 0)\n",
        "# print its size and the permuted tensor\n",
        "print(input_var.size())\n",
        "print(input_var)\n",
        "```"
      ]
    },
    {
      "cell_type": "code",
      "execution_count": null,
      "metadata": {
        "id": "YbdGoAm9rbsE"
      },
      "outputs": [],
      "source": [
        "# TODO: Uncomment the following line to see the error that arises from the current image format\n",
        "# plt.imshow(image)\n",
        "\n",
        "# TODO: Comment the above line and fix this code by reordering the tensor dimensions\n",
        "# plt.imshow(image.permute(...))\n",
        "# plt.show()"
      ]
    },
    {
      "cell_type": "markdown",
      "metadata": {
        "id": "_KWuGZrzrbsF"
      },
      "source": [
        "**Training and Test Datasets**\n",
        "\n",
        "When loading a dataset, you can specify if you want to load the training or the test samples using the `train` argument. We can load the training and test datasets separately. For simplicity, today we will not use both datasets separately, but this topic will be adressed in the next days."
      ]
    },
    {
      "cell_type": "code",
      "execution_count": null,
      "metadata": {
        "colab": {
          "background_save": true
        },
        "id": "Y8lR86lMrbsF"
      },
      "outputs": [],
      "source": [
        "# Load the training samples\n",
        "training_data = datasets.CIFAR10(\n",
        "    root=\"data\",\n",
        "    train=True,\n",
        "    download=True,\n",
        "    transform=ToTensor()\n",
        "    )\n",
        "\n",
        "# Load the test samples\n",
        "test_data = datasets.CIFAR10(\n",
        "    root=\"data\",\n",
        "    train=False,\n",
        "    download=True,\n",
        "    transform=ToTensor()\n",
        "    )"
      ]
    },
    {
      "cell_type": "markdown",
      "metadata": {
        "id": "yw2mVOZZrbsF"
      },
      "source": [
        "**Dataloader**\n",
        "\n",
        "Another important concept is the `Dataloader`. It is a wrapper around the `Dataset` that splits it into minibatches (important for training the neural network) and makes the data iterable. The `shuffle` argument is used to shuffle the order of the samples across the minibatches."
      ]
    },
    {
      "cell_type": "code",
      "execution_count": null,
      "metadata": {
        "colab": {
          "background_save": true
        },
        "id": "LufFZ3oErbsF"
      },
      "outputs": [],
      "source": [
        "# Create dataloaders with\n",
        "train_dataloader = DataLoader(training_data, batch_size=64, shuffle=True)\n",
        "test_dataloader = DataLoader(test_data, batch_size=64, shuffle=True)"
      ]
    },
    {
      "cell_type": "code",
      "execution_count": null,
      "metadata": {
        "colab": {
          "background_save": true
        },
        "id": "EIdUM3iABCWR"
      },
      "outputs": [],
      "source": [
        "#check balance\n",
        "total = 0 \n",
        "dictt = {0:0 , 1:0 , 2:0 ,3:0 ,4:0 ,5:0 ,6:0 ,7:0 ,8:0 ,9:0}\n",
        "for data in train_dataloader:\n",
        "   Xs ,Ys = data\n",
        "   for y in Ys :\n",
        "     dictt[int(y)]+=1\n",
        "     total+=1\n",
        "print(dictt)\n",
        "print(total)\n",
        "for i in dictt:\n",
        "  print(f\" {training_data.classes[i]} : {dictt[i]*100 / total:.2f}% \")"
      ]
    },
    {
      "cell_type": "markdown",
      "metadata": {
        "id": "CiP8juDtrbsF"
      },
      "source": [
        "We can now query the next batch from the data loader and inspect it. For this we need to convert the dataloader object to a Python iterator using the function `iter` and then we can query the next batch using the function `next`.\n",
        "\n",
        "We can now see that we have a 4D tensor. This is because we have a 64 images in the batch ($B$) and each image has 3 dimensions: channels ($C$), height ($H$) and width ($W$). So, the size of the 4D tensor is $B \\times C \\times H \\times W$."
      ]
    },
    {
      "cell_type": "code",
      "execution_count": null,
      "metadata": {
        "colab": {
          "background_save": true
        },
        "id": "hzQQ60ijrbsF"
      },
      "outputs": [],
      "source": [
        "# Load the next batch\n",
        "batch_images, batch_labels = next(iter(train_dataloader))\n",
        "print('Batch size:', batch_images.shape)\n",
        "\n",
        "# Display the first image from the batch\n",
        "print(batch_labels[0].item())\n",
        "plt.imshow(batch_images[0].permute(1, 2, 0))\n",
        "plt.show()"
      ]
    },
    {
      "cell_type": "markdown",
      "metadata": {
        "id": "Dc8RSRwcrbsF"
      },
      "source": [
        "**Transformations**\n",
        "\n",
        "Another useful feature when loading a dataset is applying transformations on the data - color conversions, normalization, cropping, rotation etc. There are many predefined transformations in the `torchvision.transforms` package and you can also combine them using the `Compose` transform. Checkout the [pytorch documentation](https://pytorch.org/vision/stable/transforms.html) for details."
      ]
    },
    {
      "cell_type": "markdown",
      "metadata": {
        "id": "r9xTvhbjrbsG"
      },
      "source": [
        "### Coding Exercise 2.6: Load the CIFAR10 dataset as grayscale images\n",
        "\n",
        "The goal of this excercise is to load the images from the CIFAR10 dataset as grayscale images. Note that we rerun the `set_seed` function to ensure reproducibility."
      ]
    },
    {
      "cell_type": "code",
      "execution_count": null,
      "metadata": {
        "colab": {
          "background_save": true
        },
        "id": "carfeBMCrbsG"
      },
      "outputs": [],
      "source": [
        "def my_data_load():\n",
        "  \"\"\"\n",
        "  Function to load CIFAR10 data as grayscale images\n",
        "\n",
        "  Args:\n",
        "    None\n",
        "\n",
        "  Returns:\n",
        "    data: DataFrame\n",
        "      CIFAR10 loaded Dataframe of shape (3309, 14)\n",
        "  \"\"\"\n",
        "  ###############################################\n",
        "  ## TODO load the CIFAR10 data,\n",
        "  ## but as grayscale images and not as RGB colored.\n",
        "  ###############################################\n",
        "  ## TODO Load the CIFAR10 data using a transform that converts the images to grayscale tensors\n",
        "  data = datasets.CIFAR10(...,\n",
        "                          transform=...)\n",
        "  # Display a random grayscale image\n",
        "  image, label = data[random.randint(0, len(data))]\n",
        "  plt.imshow(image.squeeze(), cmap=\"gray\")\n",
        "  plt.show()\n",
        "\n",
        "  return data\n",
        "\n",
        "\n",
        "set_seed(seed=2022)\n",
        "## After implementing the above code, uncomment the following lines to test your code\n",
        "# data = my_data_load()"
      ]
    },
    {
      "cell_type": "markdown",
      "metadata": {
        "id": "ZSxZl5flrbsG"
      },
      "source": [
        "---\n",
        "# Section 3: Neural Networks\n"
      ]
    },
    {
      "cell_type": "markdown",
      "metadata": {
        "id": "0cOV2C3SrbsG"
      },
      "source": [
        "Now it's time for you to create your first neural network using PyTorch. This section will walk you through the process of:\n",
        "\n",
        "- Creating a simple neural network model\n",
        "- Training the network\n",
        "- Evaluation of the network \n",
        "- Create a convolutional neural network\n",
        "- Tweaking the networks\n"
      ]
    },
    {
      "cell_type": "code",
      "execution_count": null,
      "metadata": {
        "colab": {
          "background_save": true
        },
        "id": "opz-cSkPrbsG"
      },
      "outputs": [],
      "source": [
        "# @title Importing the liberies\n",
        "\n",
        "import torch\n",
        "import torch.nn as nn\n",
        "import torchvision\n",
        "import torchvision.transforms as transforms\n",
        "import matplotlib.pyplot as plt"
      ]
    },
    {
      "cell_type": "code",
      "source": [
        "# @title Device configuration\n",
        "device = torch.device('cuda' if torch.cuda.is_available() else 'cpu')"
      ],
      "metadata": {
        "id": "PKzlklZN1pPn"
      },
      "execution_count": null,
      "outputs": []
    },
    {
      "cell_type": "code",
      "source": [
        "# @title Hyper-parameters \n",
        "input_size = 784 # 28x28\n",
        "hidden_size = 500 \n",
        "num_classes = 10\n",
        "num_epochs = 2\n",
        "batch_size = 100\n",
        "learning_rate = 0.001"
      ],
      "metadata": {
        "id": "cZGY3eWs1p6w"
      },
      "execution_count": null,
      "outputs": []
    },
    {
      "cell_type": "markdown",
      "metadata": {
        "id": "0FeU-h1JrbsG"
      },
      "source": [
        "The torchvision package gives you easy access also to many of the publicly available datasets. Let's load the MNIST dataset .\n",
        "\n",
        "Creating an object of type datasets.MNIST will automatically download and load all images from the dataset. The resulting data structure can be treated as a list containing data samples and their corresponding labels.\n",
        "\n",
        "\n",
        "\n",
        "\n"
      ]
    },
    {
      "cell_type": "code",
      "execution_count": null,
      "metadata": {
        "colab": {
          "background_save": true
        },
        "id": "e3VdXIIDrbsH"
      },
      "outputs": [],
      "source": [
        "# @title MNIST dataset \n",
        "train_dataset = torchvision.datasets.MNIST(root='./data', \n",
        "                                           train=True, \n",
        "                                           transform=transforms.ToTensor(),  \n",
        "                                           download=True)\n",
        "\n",
        "test_dataset = torchvision.datasets.MNIST(root='./data', \n",
        "                                          train=False, \n",
        "                                          transform=transforms.ToTensor())"
      ]
    },
    {
      "cell_type": "code",
      "execution_count": null,
      "metadata": {
        "colab": {
          "background_save": true
        },
        "id": "_eM6jRRarbsH"
      },
      "outputs": [],
      "source": [
        "# @title Data loader\n",
        "train_loader = torch.utils.data.DataLoader(dataset=train_dataset, \n",
        "                                           batch_size=batch_size, \n",
        "                                           shuffle=True)\n",
        "\n",
        "test_loader = torch.utils.data.DataLoader(dataset=test_dataset, \n",
        "                                          batch_size=batch_size, \n",
        "                                          shuffle=False)\n",
        "\n",
        "examples = iter(test_loader)\n",
        "example_data, example_targets = examples.next()\n",
        "\n",
        "for i in range(6):\n",
        "    plt.subplot(2,3,i+1)\n",
        "    plt.imshow(example_data[i][0], cmap='gray')\n",
        "plt.show()"
      ]
    },
    {
      "cell_type": "markdown",
      "metadata": {
        "id": "IigojOEvrbsH"
      },
      "source": [
        "## Section 3.2: Create a Simple Neural Network"
      ]
    },
    {
      "cell_type": "markdown",
      "metadata": {
        "id": "mu_iomxErbsH"
      },
      "source": [
        "For this example we want to have a simple neural network consisting of 2 layers and 1 activation function\n",
        "\n",
        "The example here is meant to demonstrate the process of creating and training a neural network end-to-end.\n",
        "\n",
        "**Programing the Network**\n",
        "\n",
        "PyTorch provides a base class for all neural network modules called [`nn.Module`](https://pytorch.org/docs/stable/generated/torch.nn.Module.html). You need to inherit from `nn.Module` and implement some important methods:\n",
        "\n",
        "* `__init__`\n",
        "\n",
        "  In the `__init__` method you need to define the structure of your network. Here you will specify what layers will the network consist of, what activation functions will be used etc.\n",
        "\n",
        "* `forward`\n",
        "\n",
        "  All neural network modules need to implement the `forward` method. It specifies the computations the network needs to do when data is passed through it.\n",
        "\n",
        "\n",
        "**Note:** You can use the `__call__` method of a module directly and it will invoke the `forward` method: `net()` does the same as `net.forward()`."
      ]
    },
    {
      "cell_type": "code",
      "execution_count": null,
      "metadata": {
        "colab": {
          "background_save": true
        },
        "id": "cz0nEtJhrbsH"
      },
      "outputs": [],
      "source": [
        "class NeuralNet(nn.Module):\n",
        "    def __init__(self, input_size, hidden_size, num_classes):\n",
        "        super(NeuralNet, self).__init__()\n",
        "        self.l1 = nn.Linear(input_size, hidden_size) \n",
        "        self.relu = nn.ReLU()\n",
        "        self.l2 = nn.Linear(hidden_size, num_classes)  \n",
        "    \n",
        "    def forward(self, x):\n",
        "        out = self.l1(x)\n",
        "        out = self.relu(out)\n",
        "        out = self.l2(out)\n",
        "        # no activation and no softmax at the end\n",
        "        return out\n",
        "\n",
        "model = NeuralNet(input_size, hidden_size, num_classes).to(device)"
      ]
    },
    {
      "cell_type": "code",
      "execution_count": null,
      "metadata": {
        "colab": {
          "background_save": true
        },
        "id": "0wt1kqqXrbsI"
      },
      "outputs": [],
      "source": [
        "# @title  Create The nodel and transfer The model to the GPU\n",
        "\n",
        "model = NeuralNet(input_size, hidden_size, num_classes).to(device)\n",
        "\n",
        "# Print the structure of the network\n",
        "print(model)"
      ]
    },
    {
      "cell_type": "code",
      "source": [
        "# @title Claculating the Loss and Initializing the optimizer\n",
        "criterion = nn.CrossEntropyLoss()\n",
        "optimizer = torch.optim.Adam(model.parameters(), lr=learning_rate)  "
      ],
      "metadata": {
        "cellView": "form",
        "id": "phQxCeuM2CoL"
      },
      "execution_count": null,
      "outputs": []
    },
    {
      "cell_type": "code",
      "source": [
        "#@title Train the model\n",
        "n_total_steps = len(train_loader)\n",
        "for epoch in range(num_epochs):\n",
        "    for i, (images, labels) in enumerate(train_loader):  \n",
        "        # origin shape: [100, 1, 28, 28]\n",
        "        # resized: [100, 784]\n",
        "        images = images.reshape(-1, 28*28).to(device)\n",
        "        labels = labels.to(device)\n",
        "        \n",
        "        # Forward pass and loss calculation\n",
        "        outputs = model(images)\n",
        "        loss = criterion(outputs, labels)\n",
        "        \n",
        "        # Backward and optimize\n",
        "        loss.backward()\n",
        "        optimizer.step()\n",
        "        optimizer.zero_grad()\n",
        "        \n",
        "        if (i+1) % 100 == 0:\n",
        "            print (f'Epoch [{epoch+1}/{num_epochs}], Step [{i+1}/{n_total_steps}], Loss: {loss.item():.4f}')"
      ],
      "metadata": {
        "id": "AS014pNX2HcR"
      },
      "execution_count": null,
      "outputs": []
    },
    {
      "cell_type": "code",
      "source": [
        "# @title Test the model\n",
        "\n",
        "with torch.no_grad():\n",
        "    n_correct = 0\n",
        "    n_samples = len(test_loader.dataset)\n",
        "\n",
        "    for images, labels in test_loader:\n",
        "        images = images.reshape(-1, 28*28).to(device)\n",
        "        labels = labels.to(device)\n",
        "\n",
        "        outputs = model(images)\n",
        "\n",
        "        # max returns (output_value ,index)\n",
        "        _, predicted = torch.max(outputs, 1)\n",
        "        n_correct += (predicted == labels).sum().item()\n",
        "\n",
        "    acc = n_correct / n_samples\n",
        "    print(f'Accuracy of the network on the {n_samples} test images: {100*acc} %')"
      ],
      "metadata": {
        "id": "UM_qpRlS2LMW"
      },
      "execution_count": null,
      "outputs": []
    },
    {
      "cell_type": "markdown",
      "metadata": {
        "id": "XGWGWjJE7Zb0"
      },
      "source": [
        "\n",
        "\n",
        "\n",
        "## Section 3.3: Create a Simple CNN\n"
      ]
    },
    {
      "cell_type": "code",
      "execution_count": null,
      "metadata": {
        "colab": {
          "background_save": true
        },
        "id": "lQJCVd1WrbsI"
      },
      "outputs": [],
      "source": [
        "# @title import the libraries \n",
        "import torch\n",
        "import torch.nn as nn\n",
        "import torch.nn.functional as F\n",
        "import torchvision\n",
        "import torchvision.transforms as transforms\n",
        "import matplotlib.pyplot as plt\n",
        "import numpy as np"
      ]
    },
    {
      "cell_type": "code",
      "source": [
        "# @title Device configuration\n",
        "device = torch.device('cuda' if torch.cuda.is_available() else 'cpu')"
      ],
      "metadata": {
        "id": "JU7Jnn867sYR"
      },
      "execution_count": null,
      "outputs": []
    },
    {
      "cell_type": "code",
      "source": [
        "# @title Hyper-parameters \n",
        "num_epochs = 10\n",
        "batch_size = 32\n",
        "learning_rate = 0.001"
      ],
      "metadata": {
        "id": "dGQrcfDu7vKD"
      },
      "execution_count": null,
      "outputs": []
    },
    {
      "cell_type": "code",
      "source": [
        "# @title transform images to Tensors \n",
        "\n",
        "# title dataset has PILImage images of range [0, 1]. \n",
        "# We transform them to Tensors of normalized range [-1, 1\n",
        "\n",
        "transform = transforms.Compose(\n",
        "    [transforms.ToTensor(),\n",
        "     transforms.Normalize((0.5, 0.5, 0.5), (0.5, 0.5, 0.5))])"
      ],
      "metadata": {
        "id": "_yXqGSjW7w4e"
      },
      "execution_count": null,
      "outputs": []
    },
    {
      "cell_type": "code",
      "source": [
        "# @title Create a Training and Testing datasets \n",
        "# CIFAR10: 60000 32x32 color images in 10 classes, with 6000 images per class\n",
        "train_dataset = torchvision.datasets.CIFAR10(root='./data', train=True,\n",
        "                                        download=True, transform=transform)\n",
        "\n",
        "test_dataset = torchvision.datasets.CIFAR10(root='./data', train=False,\n",
        "                                       download=True, transform=transform)\n",
        "\n",
        "train_loader = torch.utils.data.DataLoader(train_dataset, batch_size=batch_size,\n",
        "                                          shuffle=True)\n",
        "\n",
        "test_loader = torch.utils.data.DataLoader(test_dataset, batch_size=batch_size,\n",
        "                                         shuffle=False)\n",
        "\n",
        "classes = ('plane', 'car', 'bird', 'cat',\n",
        "           'deer', 'dog', 'frog', 'horse', 'ship', 'truck')"
      ],
      "metadata": {
        "id": "sk0Cbxub7131"
      },
      "execution_count": null,
      "outputs": []
    },
    {
      "cell_type": "code",
      "source": [
        "# @title display the images \n",
        "\n",
        "def imshow(imgs):\n",
        "    imgs = imgs / 2 + 0.5   # unnormalize\n",
        "    npimgs = imgs.numpy()\n",
        "    plt.imshow(np.transpose(npimgs, (1, 2, 0)))\n",
        "    plt.show()\n",
        "\n",
        "# one batch of random training images\n",
        "dataiter = iter(train_loader)\n",
        "images, labels = dataiter.next()\n",
        "img_grid = torchvision.utils.make_grid(images[0:25], nrow=5)\n",
        "imshow(img_grid)"
      ],
      "metadata": {
        "id": "Qv4mSRqk75U7"
      },
      "execution_count": null,
      "outputs": []
    },
    {
      "cell_type": "code",
      "source": [
        "# @title Creating a ConvNet\n",
        "\n",
        "class ConvNet(nn.Module):\n",
        "    def __init__(self):\n",
        "        super().__init__()\n",
        "        self.conv1 = nn.Conv2d(3, 32, 3)\n",
        "        self.pool = nn.MaxPool2d(2, 2)\n",
        "        self.conv2 = nn.Conv2d(32, 64, 3)\n",
        "        self.conv3 = nn.Conv2d(64, 64, 3)\n",
        "        self.fc1 = nn.Linear(64*4*4, 64)\n",
        "        self.fc2 = nn.Linear(64, 10)\n",
        "\n",
        "    def forward(self, x):\n",
        "        # N, 3, 32, 32\n",
        "        x = F.relu(self.conv1(x))   # -> N, 32, 30, 30\n",
        "        x = self.pool(x)            # -> N, 32, 15, 15\n",
        "        x = F.relu(self.conv2(x))   # -> N, 64, 13, 13\n",
        "        x = self.pool(x)            # -> N, 64, 6, 6\n",
        "        x = F.relu(self.conv3(x))   # -> N, 64, 4, 4\n",
        "        x = torch.flatten(x, 1)     # -> N, 1024\n",
        "        x = F.relu(self.fc1(x))     # -> N, 64\n",
        "        x = self.fc2(x)             # -> N, 10\n",
        "        return x"
      ],
      "metadata": {
        "id": "ck0Sv8hE2X18"
      },
      "execution_count": null,
      "outputs": []
    },
    {
      "cell_type": "code",
      "source": [
        "# @title Create The nodel and transfer The model to the GPU\n",
        "model = ConvNet().to(device)"
      ],
      "metadata": {
        "id": "P4wCJum48riT"
      },
      "execution_count": null,
      "outputs": []
    },
    {
      "cell_type": "code",
      "source": [
        "# @title Claculating the Loss and Initializing the optimizer\n",
        "\n",
        "criterion = nn.CrossEntropyLoss()\n",
        "optimizer = torch.optim.Adam(model.parameters(), lr=learning_rate)"
      ],
      "metadata": {
        "id": "xw1GdkqW8vHK"
      },
      "execution_count": null,
      "outputs": []
    },
    {
      "cell_type": "code",
      "source": [
        "# @title Model Training\n",
        "\n",
        "n_total_steps = len(train_loader)\n",
        "for epoch in range(num_epochs):\n",
        "\n",
        "    running_loss = 0.0\n",
        "\n",
        "    for i, (images, labels) in enumerate(train_loader):\n",
        "        images = images.to(device)\n",
        "        labels = labels.to(device)\n",
        "\n",
        "        # Forward pass\n",
        "        outputs = model(images)\n",
        "        loss = criterion(outputs, labels)\n",
        "\n",
        "        # Backward and optimize\n",
        "        loss.backward()\n",
        "        optimizer.step()\n",
        "        optimizer.zero_grad()\n",
        "\n",
        "        running_loss += loss.item()\n",
        "\n",
        "    print(f'[{epoch + 1}] loss: {running_loss / n_total_steps:.3f}')\n"
      ],
      "metadata": {
        "id": "MYStdNpU8q6y"
      },
      "execution_count": null,
      "outputs": []
    },
    {
      "cell_type": "code",
      "source": [
        "print('Finished Training')\n",
        "PATH = './cnn.pth'\n",
        "torch.save(model.state_dict(), PATH)"
      ],
      "metadata": {
        "id": "S_bwVS388yIk"
      },
      "execution_count": null,
      "outputs": []
    },
    {
      "cell_type": "code",
      "source": [
        "# @title testing the loaded model\n",
        "\n",
        "loaded_model = ConvNet()\n",
        "loaded_model.load_state_dict(torch.load(PATH)) # it takes the loaded dictionary, not the path file itself\n",
        "loaded_model.to(device)\n",
        "loaded_model.eval()\n",
        "\n",
        "with torch.no_grad():\n",
        "    n_correct = 0\n",
        "    n_correct2 = 0\n",
        "    n_samples = len(test_loader.dataset)\n",
        "\n",
        "    for images, labels in test_loader:\n",
        "        images = images.to(device)\n",
        "        labels = labels.to(device)\n",
        "        outputs = model(images)\n",
        "\n",
        "        # max returns (value ,index)\n",
        "        _, predicted = torch.max(outputs, 1)\n",
        "        n_correct += (predicted == labels).sum().item()\n",
        "\n",
        "        outputs2 = loaded_model(images)\n",
        "        _, predicted2 = torch.max(outputs2, 1)\n",
        "        n_correct2 += (predicted2 == labels).sum().item()\n",
        "\n",
        "    acc = 100.0 * n_correct / n_samples\n",
        "    print(f'Accuracy of the model: {acc} %')\n",
        "\n",
        "    acc = 100.0 * n_correct2 / n_samples\n",
        "    print(f'Accuracy of the loaded model: {acc} %')"
      ],
      "metadata": {
        "id": "LACa_mhfBdZY"
      },
      "execution_count": null,
      "outputs": []
    },
    {
      "cell_type": "markdown",
      "metadata": {
        "id": "3wyjum8hrbsK"
      },
      "source": [
        "### Exercise 3.4: Tweak your Network\n",
        "\n",
        "You can now play around with the network a little bit to get a feeling of what different parameters are doing. Here are some ideas what you could try:\n",
        "\n",
        "- Increase or decrease the number of epochs for training\n",
        "- Increase or decrease the size of the hidden layer\n",
        "- Add one additional hidden layer\n",
        "\n",
        "Can you get the network to better fit the data?"
      ]
    },
    {
      "cell_type": "markdown",
      "metadata": {
        "id": "PbZ2UnTtrbsM"
      },
      "source": [
        "---\n",
        "# Appendix\n",
        "\n",
        "## Official PyTorch resources:\n",
        "\n",
        "### Tutorials\n",
        "- [https://pytorch.org/tutorials/](https://pytorch.org/tutorials/)\n",
        "\n",
        "### Documentation\n",
        "- [https://pytorch.org/docs/stable/tensors.html](https://pytorch.org/docs/stable/tensors.html) (tensor methods)\n",
        "\n",
        "- [https://pytorch.org/docs/stable/generated/torch.Tensor.view.html#torch.Tensor.view](https://pytorch.org/docs/stable/generated/torch.Tensor.view.html#torch.Tensor.view) (The view method in particular)\n",
        "\n",
        "- [https://pytorch.org/vision/stable/datasets.html](https://pytorch.org/vision/stable/datasets.html) (pre-loaded image datasets)\n",
        "\n",
        "## Google Colab Resources:\n",
        "- [https://research.google.com/colaboratory/faq.html](https://research.google.com/colaboratory/faq.html) (FAQ including guidance on GPU usage)\n",
        "\n",
        "## Books for reference:\n",
        "- [https://www.deeplearningbook.org/](https://www.deeplearningbook.org/) (Deep Learning by Ian Goodfellow, Yoshua Bengio and Aaron Courville)"
      ]
    }
  ],
  "metadata": {
    "colab": {
      "provenance": [],
      "collapsed_sections": [
        "0qNH9_Itrbr5",
        "a2hWLtIqrbr5",
        "deaPvzT_rbr6",
        "0FHpX0n7rbr7",
        "qiyaM9U4rbr8",
        "RrXl9qOzrbsA",
        "UIniMiA0rbsB",
        "8Bp1x73qrbsC",
        "3wyjum8hrbsK"
      ]
    },
    "gpuClass": "standard",
    "kernel": {
      "display_name": "Python 3",
      "language": "python",
      "name": "python3"
    },
    "kernelspec": {
      "display_name": "Python 3",
      "name": "python3"
    },
    "language_info": {
      "codemirror_mode": {
        "name": "ipython",
        "version": 3
      },
      "file_extension": ".py",
      "mimetype": "text/x-python",
      "name": "python",
      "nbconvert_exporter": "python",
      "pygments_lexer": "ipython3",
      "version": "3.7.11"
    }
  },
  "nbformat": 4,
  "nbformat_minor": 0
}