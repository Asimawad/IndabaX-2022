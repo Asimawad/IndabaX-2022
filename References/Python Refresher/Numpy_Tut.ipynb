{
  "nbformat": 4,
  "nbformat_minor": 0,
  "metadata": {
    "colab": {
      "name": "Copy of Numpy Tut.ipynb",
      "provenance": [],
      "collapsed_sections": []
    },
    "kernelspec": {
      "display_name": "Python 3",
      "language": "python",
      "name": "python3"
    },
    "language_info": {
      "codemirror_mode": {
        "name": "ipython",
        "version": 3
      },
      "file_extension": ".py",
      "mimetype": "text/x-python",
      "name": "python",
      "nbconvert_exporter": "python",
      "pygments_lexer": "ipython3",
      "version": "3.7.1"
    }
  },
  "cells": [
    {
      "cell_type": "markdown",
      "metadata": {
        "colab_type": "text",
        "id": "MmWVVqx4RFhN"
      },
      "source": [
        "# Numpy\n",
        "Numpy is the core library for scientific computing in Python (see the full [documentation](https://numpy.org/devdocs/user/quickstart.html) which is available online). It provides a high-performance multidimensional array object, and tools for working with these arrays. If you are already familiar with MATLAB, you might find this tutorial useful to get started with Numpy."
      ]
    },
    {
      "cell_type": "code",
      "metadata": {
        "colab_type": "code",
        "id": "Nc05X4MJjpXv",
        "colab": {}
      },
      "source": [
        "import numpy as np\n"
      ],
      "execution_count": 0,
      "outputs": []
    },
    {
      "cell_type": "markdown",
      "metadata": {
        "colab_type": "text",
        "id": "Lfv2UrCxRzck"
      },
      "source": [
        "A numpy array is a grid of values, all of the same type, and is indexed by a tuple of nonnegative integers. The number of dimensions is the rank of the array; the shape of an array is a tuple of integers giving the size of the array along each dimension."
      ]
    },
    {
      "cell_type": "code",
      "metadata": {
        "colab_type": "code",
        "id": "c2ADEa06R2Qz",
        "outputId": "7ca23e17-10fc-4816-a686-5b1a5971b609",
        "colab": {
          "base_uri": "https://localhost:8080/",
          "height": 35
        }
      },
      "source": [
        "a = np.array([2,3,4])             #create numpy array with initial values\n",
        "a"
      ],
      "execution_count": 0,
      "outputs": [
        {
          "output_type": "execute_result",
          "data": {
            "text/plain": [
              "array([2, 3, 4])"
            ]
          },
          "metadata": {
            "tags": []
          },
          "execution_count": 5
        }
      ]
    },
    {
      "cell_type": "code",
      "metadata": {
        "colab_type": "code",
        "id": "dgKGnaKfjwpw",
        "outputId": "d3fec0c2-3c98-4630-99c4-1c53ed630c15",
        "colab": {
          "base_uri": "https://localhost:8080/",
          "height": 35
        }
      },
      "source": [
        " a = np.arange(15)                  #range from 0 to 15-1\n",
        " a"
      ],
      "execution_count": 0,
      "outputs": [
        {
          "output_type": "execute_result",
          "data": {
            "text/plain": [
              "array([ 0,  1,  2,  3,  4,  5,  6,  7,  8,  9, 10, 11, 12, 13, 14])"
            ]
          },
          "metadata": {
            "tags": []
          },
          "execution_count": 3
        }
      ]
    },
    {
      "cell_type": "code",
      "metadata": {
        "colab_type": "code",
        "id": "J0P2AXiikpXh",
        "colab": {}
      },
      "source": [
        "a=np.arange( 0, 2, 0.3 )    #start   end     step\n",
        "a"
      ],
      "execution_count": 0,
      "outputs": []
    },
    {
      "cell_type": "code",
      "metadata": {
        "colab_type": "code",
        "id": "fy01JxQblN9i",
        "colab": {}
      },
      "source": [
        "a=np.linspace( 0, 2, 9 )             # start         end         number of elements that we want\n",
        "a"
      ],
      "execution_count": 0,
      "outputs": []
    },
    {
      "cell_type": "code",
      "metadata": {
        "colab_type": "code",
        "id": "FqlRI-wjj6gF",
        "colab": {}
      },
      "source": [
        "a=np.zeros( (3,4) )                  #array of zeros\n",
        "a"
      ],
      "execution_count": 0,
      "outputs": []
    },
    {
      "cell_type": "code",
      "metadata": {
        "colab_type": "code",
        "id": "gmKdUPwzkDNQ",
        "colab": {}
      },
      "source": [
        "np.ones( (2,2), dtype=np.int16 )      #array of  ones"
      ],
      "execution_count": 0,
      "outputs": []
    },
    {
      "cell_type": "code",
      "metadata": {
        "colab_type": "code",
        "id": "Cokn84nZlvJb",
        "colab": {}
      },
      "source": [
        "a=np.array([1,2,3])\n",
        "np.ones_like(a)"
      ],
      "execution_count": 0,
      "outputs": []
    },
    {
      "cell_type": "code",
      "metadata": {
        "colab_type": "code",
        "id": "TW2wl-S-kPaP",
        "colab": {}
      },
      "source": [
        "a = np.arange(15)\n",
        "a"
      ],
      "execution_count": 0,
      "outputs": []
    },
    {
      "cell_type": "code",
      "metadata": {
        "colab_type": "code",
        "id": "4E1TpsrmpJ36",
        "outputId": "76d649d4-c6fb-4181-bf61-4f110ac27f5a",
        "colab": {
          "base_uri": "https://localhost:8080/",
          "height": 145
        }
      },
      "source": [
        "a = np.random.random((2,3,4))              #random numbers between 0-1\n",
        "a"
      ],
      "execution_count": 0,
      "outputs": [
        {
          "output_type": "execute_result",
          "data": {
            "text/plain": [
              "array([[[0.54855257, 0.27745232, 0.40537946, 0.81429084],\n",
              "        [0.09923258, 0.49585462, 0.46423273, 0.11314189],\n",
              "        [0.63850828, 0.28092821, 0.1604648 , 0.56649355]],\n",
              "\n",
              "       [[0.31451731, 0.48542248, 0.67135037, 0.88949259],\n",
              "        [0.01997446, 0.82961227, 0.41445594, 0.02033518],\n",
              "        [0.28950623, 0.753848  , 0.26132164, 0.94378479]]])"
            ]
          },
          "metadata": {
            "tags": []
          },
          "execution_count": 16
        }
      ]
    },
    {
      "cell_type": "code",
      "metadata": {
        "colab_type": "code",
        "id": "N18G4QH079rO",
        "outputId": "afea0ac9-e501-4705-abd1-53d8ec850d38",
        "colab": {
          "base_uri": "https://localhost:8080/",
          "height": 72
        }
      },
      "source": [
        "a=np.full((3,2), 4) # Create a constant array\n",
        "a"
      ],
      "execution_count": 0,
      "outputs": [
        {
          "output_type": "execute_result",
          "data": {
            "text/plain": [
              "array([[4, 4],\n",
              "       [4, 4],\n",
              "       [4, 4]])"
            ]
          },
          "metadata": {
            "tags": []
          },
          "execution_count": 7
        }
      ]
    },
    {
      "cell_type": "code",
      "metadata": {
        "colab_type": "code",
        "id": "uOF1uYVY8G6T",
        "outputId": "2fc9197d-def7-4c9b-febf-0501622636cf",
        "colab": {
          "base_uri": "https://localhost:8080/",
          "height": 90
        }
      },
      "source": [
        "a = np.eye(4)        # Create a 4x4 identity matrix\n",
        "print(a)"
      ],
      "execution_count": 0,
      "outputs": [
        {
          "output_type": "stream",
          "text": [
            "[[1. 0. 0. 0.]\n",
            " [0. 1. 0. 0.]\n",
            " [0. 0. 1. 0.]\n",
            " [0. 0. 0. 1.]]\n"
          ],
          "name": "stdout"
        }
      ]
    },
    {
      "cell_type": "code",
      "metadata": {
        "colab_type": "code",
        "id": "nBPRO9l9qoWT",
        "outputId": "e7f80b3b-cbba-47a1-94c4-6f3ce352a149",
        "colab": {
          "base_uri": "https://localhost:8080/",
          "height": 35
        }
      },
      "source": [
        "a = np.array([0, 1, 2])                      #np.tile(a, reps) create an array by repeating a the number of times given by reps \n",
        "np.tile(a, 3)"
      ],
      "execution_count": 0,
      "outputs": [
        {
          "output_type": "execute_result",
          "data": {
            "text/plain": [
              "array([0, 1, 2, 0, 1, 2, 0, 1, 2])"
            ]
          },
          "metadata": {
            "tags": []
          },
          "execution_count": 10
        }
      ]
    },
    {
      "cell_type": "code",
      "metadata": {
        "colab_type": "code",
        "id": "4-4D67oEtcv1",
        "outputId": "d4eca60b-f6f2-423c-d53d-0fa429f23191",
        "colab": {
          "base_uri": "https://localhost:8080/",
          "height": 54
        }
      },
      "source": [
        "a = np.array([0, 1, 2,3])\n",
        "np.tile(a, (2, 2))"
      ],
      "execution_count": 0,
      "outputs": [
        {
          "output_type": "execute_result",
          "data": {
            "text/plain": [
              "array([[0, 1, 2, 3, 0, 1, 2, 3],\n",
              "       [0, 1, 2, 3, 0, 1, 2, 3]])"
            ]
          },
          "metadata": {
            "tags": []
          },
          "execution_count": 22
        }
      ]
    },
    {
      "cell_type": "code",
      "metadata": {
        "colab_type": "code",
        "id": "2XbonozPmGsx",
        "outputId": "9cfaf159-debc-4bde-d1b2-5f91ce8a07e1",
        "colab": {
          "base_uri": "https://localhost:8080/",
          "height": 72
        }
      },
      "source": [
        "a = np.random.random((2,3,4)) \n",
        "print(a.shape)\n",
        "a.reshape(6,4)               #a still the same\n",
        "print(a.shape)\n",
        "a=a.reshape(6,4)               #a.reshape() return a new array\n",
        "print(a.shape)\n"
      ],
      "execution_count": 0,
      "outputs": [
        {
          "output_type": "stream",
          "text": [
            "(2, 3, 4)\n",
            "(2, 3, 4)\n",
            "(6, 4)\n"
          ],
          "name": "stdout"
        }
      ]
    },
    {
      "cell_type": "code",
      "metadata": {
        "colab_type": "code",
        "id": "Jo0qk5famLZM",
        "outputId": "f41e9c6d-ba70-4617-dd4d-938f14d89d83",
        "colab": {
          "base_uri": "https://localhost:8080/",
          "height": 90
        }
      },
      "source": [
        "print('the number of axes (dimensions) of the array. =',a.ndim)\n",
        "print('the dimensions of the array =',a.shape)\n",
        "print('the total number of elements of the array =',a.size)\n",
        "print('a.ndim =',a.ndim)"
      ],
      "execution_count": 0,
      "outputs": [
        {
          "output_type": "stream",
          "text": [
            "the number of axes (dimensions) of the array. = 1\n",
            "the dimensions of the array = (4,)\n",
            "the total number of elements of the array = 4\n",
            "a.ndim = 1\n"
          ],
          "name": "stdout"
        }
      ]
    },
    {
      "cell_type": "markdown",
      "metadata": {
        "colab_type": "text",
        "id": "wDXQHIppnihv"
      },
      "source": [
        "### Basic OPerations"
      ]
    },
    {
      "cell_type": "code",
      "metadata": {
        "colab_type": "code",
        "id": "CFRDXlTAnpBn",
        "colab": {}
      },
      "source": [
        "A = np.array( [[1,1],\n",
        "           [0,1]] )\n",
        "B = np.array( [[2,0],\n",
        "            [3,4]] )"
      ],
      "execution_count": 0,
      "outputs": []
    },
    {
      "cell_type": "code",
      "metadata": {
        "colab_type": "code",
        "id": "AT1Chi2-nyG6",
        "outputId": "a2a87c07-0ccc-4502-85fb-461fd5c6c1dc",
        "colab": {
          "base_uri": "https://localhost:8080/",
          "height": 126
        }
      },
      "source": [
        "# Arithmetic operators on arrays apply elementwise\n",
        "print( 'A+B= \\n', A+B )\n",
        "print( '2*A= \\n',2*A)"
      ],
      "execution_count": 0,
      "outputs": [
        {
          "output_type": "stream",
          "text": [
            "A+B= \n",
            " [[3 1]\n",
            " [3 5]]\n",
            "2*A= \n",
            " [[2 2]\n",
            " [0 2]]\n"
          ],
          "name": "stdout"
        }
      ]
    },
    {
      "cell_type": "code",
      "metadata": {
        "colab_type": "code",
        "id": "efb4yFnHn5KR",
        "outputId": "ade4ccc9-26de-4610-ecb1-efeb1607a089",
        "colab": {
          "base_uri": "https://localhost:8080/",
          "height": 54
        }
      },
      "source": [
        "# Unlike in many matrix languages, the product operator * operates elementwise in NumPy arrays. \n",
        "# The matrix product can be performed using the @ operator (in python >=3.5) or the dot function or method:\n",
        " \n",
        "A * B                       # elementwise product"
      ],
      "execution_count": 0,
      "outputs": [
        {
          "output_type": "execute_result",
          "data": {
            "text/plain": [
              "array([[2, 0],\n",
              "       [0, 4]])"
            ]
          },
          "metadata": {
            "tags": []
          },
          "execution_count": 39
        }
      ]
    },
    {
      "cell_type": "code",
      "metadata": {
        "colab_type": "code",
        "id": "IcH4SDNeoh3l",
        "outputId": "e6424b35-c879-468c-baf9-7e06cd32b9f7",
        "colab": {
          "base_uri": "https://localhost:8080/",
          "height": 54
        }
      },
      "source": [
        "A @ B                       # matrix product\n"
      ],
      "execution_count": 0,
      "outputs": [
        {
          "output_type": "execute_result",
          "data": {
            "text/plain": [
              "array([[5, 4],\n",
              "       [3, 4]])"
            ]
          },
          "metadata": {
            "tags": []
          },
          "execution_count": 40
        }
      ]
    },
    {
      "cell_type": "code",
      "metadata": {
        "colab_type": "code",
        "id": "hZwH-z8lokxe",
        "outputId": "a7287c4a-69dc-43fd-b3e4-483d02a30020",
        "colab": {
          "base_uri": "https://localhost:8080/",
          "height": 54
        }
      },
      "source": [
        "A.dot(B)                    # another matrix product\n"
      ],
      "execution_count": 0,
      "outputs": [
        {
          "output_type": "execute_result",
          "data": {
            "text/plain": [
              "array([[5, 4],\n",
              "       [3, 4]])"
            ]
          },
          "metadata": {
            "tags": []
          },
          "execution_count": 41
        }
      ]
    },
    {
      "cell_type": "code",
      "metadata": {
        "colab_type": "code",
        "id": "CotrRzV09aGW",
        "colab": {}
      },
      "source": [
        "#Also\n",
        "np.dot(A, B)"
      ],
      "execution_count": 0,
      "outputs": []
    },
    {
      "cell_type": "code",
      "metadata": {
        "colab_type": "code",
        "id": "vVwY-cQdooif",
        "colab": {}
      },
      "source": [
        "a=np.arange(12).reshape(3,4)\n",
        "a"
      ],
      "execution_count": 0,
      "outputs": []
    },
    {
      "cell_type": "code",
      "metadata": {
        "colab_type": "code",
        "id": "hr0DFg-7piLx",
        "colab": {}
      },
      "source": [
        "print('sum =',a.sum())\n",
        "print('min ',a.min())\n",
        "print('max =',a.max())\n",
        "print( 'sum on rows  ',a.sum(axis=0) )"
      ],
      "execution_count": 0,
      "outputs": []
    },
    {
      "cell_type": "markdown",
      "metadata": {
        "colab_type": "text",
        "id": "dKYxreRgjzj0"
      },
      "source": [
        "##Broadcasting\n",
        "\n",
        "Broadcasting is a powerful mechanism that allows numpy to work with arrays of different shapes when performing arithmetic operations. Frequently we have a smaller array and a larger array, and we want to use the smaller array multiple times to perform some operation on the larger array.\n",
        "\n",
        "For example, suppose that we want to add a constant vector to each row of a matrix. We could do it like this:"
      ]
    },
    {
      "cell_type": "code",
      "metadata": {
        "colab_type": "code",
        "id": "OUvwvfQ7jzju",
        "outputId": "cec9d670-2fe8-4894-a471-f5827ad635a1",
        "colab": {
          "base_uri": "https://localhost:8080/",
          "height": 108
        }
      },
      "source": [
        "import time\n",
        "# We will add the vector v to each row of the matrix x,\n",
        "# storing the result in the matrix y\n",
        "x = np.array([[1,2,3], [4,5,6], [7,8,9], [10, 11, 12]])\n",
        "v = np.array([1, 0, 1])\n",
        "y = np.empty_like(x)   # Create an empty matrix with the same shape as x\n",
        "\n",
        "# Add the vector v to each row of the matrix x with an explicit loop\n",
        "t1=time.time()\n",
        "for i in range(4):\n",
        "    y[i, :] = x[i, :] + v\n",
        "t2=time.time()\n",
        "\n",
        "print('time=',t2-t1)\n",
        "print(y)"
      ],
      "execution_count": 0,
      "outputs": [
        {
          "output_type": "stream",
          "text": [
            "time= 0.00013828277587890625\n",
            "[[ 2  2  4]\n",
            " [ 5  5  7]\n",
            " [ 8  8 10]\n",
            " [11 11 13]]\n"
          ],
          "name": "stdout"
        }
      ]
    },
    {
      "cell_type": "markdown",
      "metadata": {
        "colab_type": "text",
        "id": "5t26taVbke5-"
      },
      "source": [
        "Numpy broadcasting allows us to perform this computation without actually creating multiple copies of v. Consider this version, using broadcasting:"
      ]
    },
    {
      "cell_type": "code",
      "metadata": {
        "colab_type": "code",
        "id": "aTki7IoVkVjq",
        "outputId": "221fe9ca-1c28-41bb-c784-e7bbbd51643e",
        "colab": {
          "base_uri": "https://localhost:8080/",
          "height": 108
        }
      },
      "source": [
        "import numpy as np\n",
        "\n",
        "# We will add the vector v to each row of the matrix x,\n",
        "# storing the result in the matrix y\n",
        "x = np.array([[1,2,3], [4,5,6], [7,8,9], [10, 11, 12]])\n",
        "v = np.array([1, 0, 1])\n",
        "t1=time.time()\n",
        "y = x + v  # Add v to each row of x using broadcasting\n",
        "t2=time.time()\n",
        "\n",
        "print(\"time=\",t2-t1)\n",
        "print(y)"
      ],
      "execution_count": 0,
      "outputs": [
        {
          "output_type": "stream",
          "text": [
            "8.249282836914062e-05\n",
            "[[ 2  2  4]\n",
            " [ 5  5  7]\n",
            " [ 8  8 10]\n",
            " [11 11 13]]\n"
          ],
          "name": "stdout"
        }
      ]
    },
    {
      "cell_type": "markdown",
      "metadata": {
        "colab_type": "text",
        "id": "_-oj1uF9kjab"
      },
      "source": [
        "The line y = x + v works even though x has shape (4, 3) and v has shape (3,) due to broadcasting; this line works as if v actually had shape (4, 3), where each row was a copy of v, and the sum was performed elementwise.\n",
        "\n",
        "Broadcasting two arrays together follows these rules:\n",
        "\n",
        "\n",
        "\n",
        "1.   If the arrays do not have the same rank, prepend the shape of the lower rank array with 1s until both shapes have the same length.\n",
        "2.   The two arrays are said to be compatible in a dimension if they have the same size in the dimension, or if one of the arrays has size 1 in that dimension.\n",
        "\n",
        "3.   The arrays can be broadcast together if they are compatible in all dimensions.\n",
        "4.   After broadcasting, each array behaves as if it had shape equal to the elementwise maximum of shapes of the two input arrays.\n",
        "\n",
        "\n",
        "5.   In any dimension where one array had size 1 and the other array had size greater than 1, the first array behaves as if it were copied along that dimension.\n",
        "\n",
        "\n",
        "Functions that support broadcasting are known as universal functions. You can find the list of all universal functions in the documentation.\n",
        "\n",
        "Here are some applications of broadcasting:"
      ]
    },
    {
      "cell_type": "code",
      "metadata": {
        "colab_type": "code",
        "id": "bqIvN980l1Lz",
        "outputId": "a1b2d7f8-859c-49a9-a017-b419e7d253d3",
        "colab": {
          "base_uri": "https://localhost:8080/",
          "height": 108
        }
      },
      "source": [
        "# Add a vector to each row of a matrix\n",
        "x = np.array([[1,2,3], [4,5,6]])\n",
        "# x has shape (2, 3) and v has shape (3,) so they broadcast to (2, 3),\n",
        "# giving the following matrix:\n",
        "print(x)\n",
        "print(v)\n",
        "print(x + v)"
      ],
      "execution_count": 0,
      "outputs": [
        {
          "output_type": "stream",
          "text": [
            "[[1 2 3]\n",
            " [4 5 6]]\n",
            "[1 2 3]\n",
            "[[2 4 6]\n",
            " [5 7 9]]\n"
          ],
          "name": "stdout"
        }
      ]
    },
    {
      "cell_type": "code",
      "metadata": {
        "colab_type": "code",
        "id": "LT40CiiHl5p2",
        "outputId": "d9c4e1ee-103c-406b-857a-330926e98710",
        "colab": {
          "base_uri": "https://localhost:8080/",
          "height": 126
        }
      },
      "source": [
        "# Add a vector to each column of a matrix\n",
        "# x has shape (2, 3) and w has shape (2,).\n",
        "# If we transpose x then it has shape (3, 2) and can be broadcast\n",
        "# against w to yield a result of shape (3, 2); transposing this result\n",
        "# yields the final result of shape (2, 3) which is the matrix x with\n",
        "# the vector w added to each column. Gives the following matrix:\n",
        "print(x.T)\n",
        "print(w)\n",
        "print((x.T + w).T)"
      ],
      "execution_count": 0,
      "outputs": [
        {
          "output_type": "stream",
          "text": [
            "[[1 4]\n",
            " [2 5]\n",
            " [3 6]]\n",
            "[4 5]\n",
            "[[ 5  6  7]\n",
            " [ 9 10 11]]\n"
          ],
          "name": "stdout"
        }
      ]
    },
    {
      "cell_type": "code",
      "metadata": {
        "colab_type": "code",
        "id": "ERNhyXkvl8xu",
        "outputId": "50a25320-5085-4a9b-cad3-f8b98e0e64b9",
        "colab": {
          "base_uri": "https://localhost:8080/",
          "height": 126
        }
      },
      "source": [
        "# Another solution is to reshape w to be a row vector of shape (2, 1);\n",
        "# we can then broadcast it directly against x to produce the same\n",
        "# output.\n",
        "print(x)\n",
        "print(np.reshape(w, (2, 1)))\n",
        "print(x + np.reshape(w, (2, 1)))"
      ],
      "execution_count": 0,
      "outputs": [
        {
          "output_type": "stream",
          "text": [
            "[[1 2 3]\n",
            " [4 5 6]]\n",
            "[[4]\n",
            " [5]]\n",
            "[[ 5  6  7]\n",
            " [ 9 10 11]]\n"
          ],
          "name": "stdout"
        }
      ]
    },
    {
      "cell_type": "code",
      "metadata": {
        "colab_type": "code",
        "id": "8uHNY62wl92F",
        "colab": {}
      },
      "source": [
        "# Multiply a matrix by a constant:\n",
        "# x has shape (2, 3). Numpy treats scalars as arrays of shape ();\n",
        "# these can be broadcast together to shape (2, 3), producing the\n",
        "# following array:\n",
        "print(x * 2)"
      ],
      "execution_count": 0,
      "outputs": []
    },
    {
      "cell_type": "markdown",
      "metadata": {
        "colab_type": "text",
        "id": "4xbJOXkNjzjm"
      },
      "source": [
        "## Universal Functions\n",
        "NumPy provides familiar mathematical functions such as sin, cos, and exp. In NumPy, these are called “universal functions”(ufunc). Within NumPy, these functions operate elementwise on an array, producing an array as output."
      ]
    },
    {
      "cell_type": "code",
      "metadata": {
        "colab_type": "code",
        "id": "wzKNwACRjzje",
        "outputId": "e9591ddb-8c21-401f-dd0d-43dfac34d328",
        "colab": {
          "base_uri": "https://localhost:8080/",
          "height": 235
        }
      },
      "source": [
        "print(np.exp(a))         #elementwise  exp\n",
        "print(np.sin(a))         #elementwise  sin"
      ],
      "execution_count": 0,
      "outputs": [
        {
          "output_type": "stream",
          "text": [
            "[[2.27857122 1.12250721 2.27720713 2.424109  ]\n",
            " [1.21578745 1.08421137 1.68234875 1.71056493]\n",
            " [2.18388777 1.1523528  2.31267462 1.31599949]\n",
            " [2.0416866  2.26608405 1.60732409 1.31530032]\n",
            " [2.61320836 1.02510185 1.51968886 2.27183883]\n",
            " [1.41825409 1.53830956 1.56448216 1.65971949]]\n",
            "[[0.73356214 0.1153077  0.73315503 0.77420877]\n",
            " [0.19415107 0.08076481 0.49704578 0.51140905]\n",
            " [0.70406573 0.14133099 0.74357737 0.27115852]\n",
            " [0.65469287 0.72981633 0.45695667 0.27064697]\n",
            " [0.81952334 0.02478944 0.40639549 0.73154791]\n",
            " [0.34235912 0.41749255 0.43276254 0.4852496 ]]\n"
          ],
          "name": "stdout"
        }
      ]
    },
    {
      "cell_type": "code",
      "metadata": {
        "colab_type": "code",
        "id": "68iqi9P1jzjY",
        "colab": {}
      },
      "source": [
        "a = np.array([[10, 11, 12],\n",
        "              [13, 14, 15]])\n",
        "\n",
        "print(np.argmax(a))\n",
        "print(np.argmax(a, axis=0))\n",
        "print(np.argmax(a, axis=1))"
      ],
      "execution_count": 0,
      "outputs": []
    },
    {
      "cell_type": "markdown",
      "metadata": {
        "colab_type": "text",
        "id": "hDTP6uLojzjW"
      },
      "source": [
        "## Indexing, Slicing and Iterating"
      ]
    },
    {
      "cell_type": "code",
      "metadata": {
        "colab_type": "code",
        "id": "jL5WpAjNjzjP",
        "outputId": "c0ab5e1f-6ef2-4b90-8c08-8198b51a9a9c",
        "colab": {
          "base_uri": "https://localhost:8080/",
          "height": 108
        }
      },
      "source": [
        "a = np.arange(10)**3\n",
        "print('a= ',a)\n",
        "print('a[2:5] =',a[2:5])\n",
        "print('a[0:8:2] =',a[0:8:2])\n",
        "print('a[:8:2]  =',a[:8:2])\n",
        "print(a[ : :-1] )            # reversed a"
      ],
      "execution_count": 0,
      "outputs": [
        {
          "output_type": "stream",
          "text": [
            "a=  [  0   1   8  27  64 125 216 343 512 729]\n",
            "a[2:5] = [ 8 27 64]\n",
            "a[0:8:2] = [  0   8  64 216]\n",
            "a[:8:2]  = [  0   8  64 216]\n",
            "[729 512 343 216 125  64  27   8   1   0]\n"
          ],
          "name": "stdout"
        }
      ]
    },
    {
      "cell_type": "code",
      "metadata": {
        "colab_type": "code",
        "id": "4zMqBNDKjzjF",
        "outputId": "8bb5a5b4-f6b4-484b-ca21-91f7160ab777",
        "colab": {
          "base_uri": "https://localhost:8080/",
          "height": 199
        }
      },
      "source": [
        "for i in a:\n",
        "  print(i)"
      ],
      "execution_count": 0,
      "outputs": [
        {
          "output_type": "stream",
          "text": [
            "0\n",
            "1\n",
            "8\n",
            "27\n",
            "64\n",
            "125\n",
            "216\n",
            "343\n",
            "512\n",
            "729\n"
          ],
          "name": "stdout"
        }
      ]
    },
    {
      "cell_type": "code",
      "metadata": {
        "colab_type": "code",
        "id": "2jD_d0EijzjA",
        "outputId": "a1f29b56-beec-4dae-f700-1f1b5c34dc72",
        "colab": {
          "base_uri": "https://localhost:8080/",
          "height": 108
        }
      },
      "source": [
        "b=np.array([[ 0,  1,  2,  3],\n",
        "            [10, 11, 12, 13],\n",
        "            [20, 21, 22, 23],\n",
        "            [30, 31, 32, 33],\n",
        "            [40, 41, 42, 43]])\n",
        "print('b[2,3] =',b[2,3])\n",
        "print('b[2:5, 1] =',b[2:5, 1])         #  rows 2,3 and 4 in the second column of b\n",
        "print('b[ : ,1] =', b[ : ,1])          #all rows x col 1\n",
        "print('b[-1] =', b[-1])                # the last row. Equivalent to b[-1,:]\n",
        "print('b[-1,-1] =', b[-1,-1])            #last row and last col"
      ],
      "execution_count": 0,
      "outputs": [
        {
          "output_type": "stream",
          "text": [
            "b[2,3] = 23\n",
            "b[2:5, 1] = [21 31 41]\n",
            "b[ : ,1] = [ 1 11 21 31 41]\n",
            "b[-1] = [40 41 42 43]\n",
            "b[-1,-1] = 43\n"
          ],
          "name": "stdout"
        }
      ]
    },
    {
      "cell_type": "code",
      "metadata": {
        "colab_type": "code",
        "id": "QDMVI9Ihjzi6",
        "colab": {}
      },
      "source": [
        "# The dots (...) represent as many colons as needed to produce a complete indexing tuple.\n",
        "# For example, if x is an array with 5 axes, then\n",
        "\n",
        "#     x[1,2,...] is equivalent to x[1,2,:,:,:],\n",
        "#     x[...,3] to x[:,:,:,:,3] \n",
        "#     x[4,...,5,:] to x[4,:,:,5,:].\n",
        "c = np.array( [[ [ 0,  1,  2],               # a 3D array (two stacked 2D arrays)\n",
        "                 [ 10, 12, 13]],\n",
        "                 [[100,101,102],\n",
        "                 [110,112,113]]])\n",
        "c[1,...]                                   # same as c[1,:,:] or c[1]\n"
      ],
      "execution_count": 0,
      "outputs": []
    },
    {
      "cell_type": "markdown",
      "metadata": {
        "colab_type": "text",
        "id": "6U0qr40yjzi4"
      },
      "source": [
        "## Shape Manipulation"
      ]
    },
    {
      "cell_type": "code",
      "metadata": {
        "colab_type": "code",
        "id": "pZs0zBmZjziy",
        "colab": {}
      },
      "source": [
        "a=np.array([[ 2.,  8.,  0.,  6.],\n",
        "            [ 4.,  5.,  1.,  1.],\n",
        "            [ 8.,  9.,  3.,  6.]])\n",
        "# The shape of an array can be changed with various commands. \n",
        "# Note that the following three commands all return a modified array, but do not change the original array:\n",
        "a.shape\n"
      ],
      "execution_count": 0,
      "outputs": []
    },
    {
      "cell_type": "code",
      "metadata": {
        "colab_type": "code",
        "id": "SV2M1vLljziq",
        "outputId": "380ca8e4-b1a4-4d70-d578-9916fd35fc84",
        "colab": {
          "base_uri": "https://localhost:8080/",
          "height": 35
        }
      },
      "source": [
        "a.ravel()  # returns the array, flattened\n",
        "print(a)"
      ],
      "execution_count": 0,
      "outputs": [
        {
          "output_type": "stream",
          "text": [
            "[  0   1   8  27  64 125 216 343 512 729]\n"
          ],
          "name": "stdout"
        }
      ]
    },
    {
      "cell_type": "code",
      "metadata": {
        "colab_type": "code",
        "id": "OE4Enx1ujzij",
        "colab": {}
      },
      "source": [
        "a.reshape(6,2)  # returns the array with a modified shape"
      ],
      "execution_count": 0,
      "outputs": []
    },
    {
      "cell_type": "code",
      "metadata": {
        "colab_type": "code",
        "id": "q3PI1kCqjzia",
        "outputId": "e843d8bf-141f-4b73-edcd-c51a37695977",
        "colab": {
          "base_uri": "https://localhost:8080/",
          "height": 72
        }
      },
      "source": [
        "# If a dimension is given as -1 in a reshaping operation, the other dimensions are automatically calculated:\n",
        "a.reshape(2,-1)\n",
        "print(a)\n",
        "a=a.reshape(2,-1)\n",
        "print(a)"
      ],
      "execution_count": 0,
      "outputs": [
        {
          "output_type": "stream",
          "text": [
            "[  0   1   8  27  64 125 216 343 512 729]\n",
            "[[  0   1   8  27  64]\n",
            " [125 216 343 512 729]]\n"
          ],
          "name": "stdout"
        }
      ]
    },
    {
      "cell_type": "code",
      "metadata": {
        "colab_type": "code",
        "id": "tUuQz2POjziT",
        "colab": {}
      },
      "source": [
        "#The reshape function returns its argument with a modified shape, whereas the ndarray.resize method modifies the array itself:\n",
        "print(a)\n",
        "a.resize((2,6))                   #equivalent to a=a.reshape((2,6))\n",
        "print(a)"
      ],
      "execution_count": 0,
      "outputs": []
    },
    {
      "cell_type": "code",
      "metadata": {
        "colab_type": "code",
        "id": "rQr4NFJTjziK",
        "colab": {}
      },
      "source": [
        "a.T  # returns the array, transposed"
      ],
      "execution_count": 0,
      "outputs": []
    },
    {
      "cell_type": "markdown",
      "metadata": {
        "colab_type": "text",
        "id": "1KznqkD7DXKN"
      },
      "source": [
        "### Stacking together different arrays¶"
      ]
    },
    {
      "cell_type": "code",
      "metadata": {
        "colab_type": "code",
        "id": "dg1Zs-24jzh8",
        "colab": {}
      },
      "source": [
        "a=np.array([[ 0.,  0.],\n",
        "            [ 0.,  0.],\n",
        "            [ 0.,  0.]])\n",
        "b=np.array([[ 1.,  1.],\n",
        "            [ 1.,  1.],\n",
        "           [ 1.,  1.]])\n",
        "            \n",
        "np.vstack((a,b))"
      ],
      "execution_count": 0,
      "outputs": []
    },
    {
      "cell_type": "code",
      "metadata": {
        "colab_type": "code",
        "id": "TlXYnkX2EFYm",
        "colab": {}
      },
      "source": [
        "np.hstack((a,b))"
      ],
      "execution_count": 0,
      "outputs": []
    },
    {
      "cell_type": "markdown",
      "metadata": {
        "colab_type": "text",
        "id": "zaUWSesCFJcq"
      },
      "source": [
        "The function column_stack stacks 1D arrays as columns into a 2D array. It is equivalent to hstack only for 2D arrays:"
      ]
    },
    {
      "cell_type": "code",
      "metadata": {
        "colab_type": "code",
        "id": "SDycbc4jFITB",
        "colab": {}
      },
      "source": [
        "np.column_stack((a,b))     # with 2D arrays    => the same as hstack\n",
        "\n"
      ],
      "execution_count": 0,
      "outputs": []
    },
    {
      "cell_type": "code",
      "metadata": {
        "colab_type": "code",
        "id": "iIcSwp9IFkmQ",
        "outputId": "9de41f56-8f52-4ddf-9dcf-303ba5731d02",
        "colab": {
          "base_uri": "https://localhost:8080/",
          "height": 163
        }
      },
      "source": [
        "a = np.array([4.,2.])\n",
        "b = np.array([3.,8.])\n",
        "print('column_stack \\n',np.column_stack((a,b)) )    # returns a 2D array\n",
        "\n",
        "print( 'hstack \\n',np.hstack((a,b)))        # the result is different\n",
        "print('vstack \\n',np.vstack((a,b)) )"
      ],
      "execution_count": 0,
      "outputs": [
        {
          "output_type": "stream",
          "text": [
            "column_stack \n",
            " [[4. 3.]\n",
            " [2. 8.]]\n",
            "hstack \n",
            " [4. 2. 3. 8.]\n",
            "vstack \n",
            " [[4. 2.]\n",
            " [3. 8.]]\n"
          ],
          "name": "stdout"
        }
      ]
    },
    {
      "cell_type": "markdown",
      "metadata": {
        "colab_type": "text",
        "id": "FHQMEyQ_Hrny"
      },
      "source": [
        "### Copies and Views\n",
        "When operating and manipulating arrays, their data is sometimes copied into a new array and sometimes not. \n",
        "There are three cases:\n",
        "\n"
      ]
    },
    {
      "cell_type": "markdown",
      "metadata": {
        "colab_type": "text",
        "id": "n-lffzeuH9ee"
      },
      "source": [
        "\n",
        "**1.**   ***No Copy at All***\n",
        "Simple assignments make no copy of array objects or of their data."
      ]
    },
    {
      "cell_type": "code",
      "metadata": {
        "colab_type": "code",
        "id": "UvSWgF6CEKju",
        "outputId": "fefccf62-a567-4677-b705-e76bd47d69c9",
        "colab": {
          "base_uri": "https://localhost:8080/",
          "height": 35
        }
      },
      "source": [
        "a = np.arange(12)\n",
        "b = a            # no new object is created\n",
        "b is a           # a and b are two names for the same ndarray object\n"
      ],
      "execution_count": 0,
      "outputs": [
        {
          "output_type": "execute_result",
          "data": {
            "text/plain": [
              "True"
            ]
          },
          "metadata": {
            "tags": []
          },
          "execution_count": 69
        }
      ]
    },
    {
      "cell_type": "code",
      "metadata": {
        "colab_type": "code",
        "id": "u1nXA3LxIVCK",
        "outputId": "47fb889f-6692-43ee-c91f-6133d7f542a6",
        "colab": {
          "base_uri": "https://localhost:8080/",
          "height": 35
        }
      },
      "source": [
        "b.shape = 3,4    # changes the shape of a\n",
        "a.shape\n"
      ],
      "execution_count": 0,
      "outputs": [
        {
          "output_type": "execute_result",
          "data": {
            "text/plain": [
              "(3, 4)"
            ]
          },
          "metadata": {
            "tags": []
          },
          "execution_count": 70
        }
      ]
    },
    {
      "cell_type": "code",
      "metadata": {
        "colab_type": "code",
        "id": "y-Bn4ZukIT3R",
        "outputId": "033d3cce-5383-4b6b-8035-812d6082281b",
        "colab": {
          "base_uri": "https://localhost:8080/",
          "height": 54
        }
      },
      "source": [
        "print(id(a))\n",
        "print(id(b))"
      ],
      "execution_count": 0,
      "outputs": [
        {
          "output_type": "stream",
          "text": [
            "139898042797152\n",
            "139898042797152\n"
          ],
          "name": "stdout"
        }
      ]
    },
    {
      "cell_type": "markdown",
      "metadata": {
        "colab_type": "text",
        "id": "1jbGafSTI5xf"
      },
      "source": [
        "\n",
        "***2.   View or Shallow Copy:***\n",
        "Different array objects can share the same data. The view method creates a new array object that looks at the same data.\n",
        "\n"
      ]
    },
    {
      "cell_type": "code",
      "metadata": {
        "colab_type": "code",
        "id": "dueJCYC0IvjY",
        "outputId": "0638656c-067e-4300-fd97-26a48f4b0a36",
        "colab": {
          "base_uri": "https://localhost:8080/",
          "height": 54
        }
      },
      "source": [
        "a = np.arange(12)\n",
        "c = a.view()\n",
        "print(c is a)\n",
        "print(c.base is a   )                     # c is a view of the data owned by "
      ],
      "execution_count": 0,
      "outputs": [
        {
          "output_type": "stream",
          "text": [
            "False\n",
            "True\n"
          ],
          "name": "stdout"
        }
      ]
    },
    {
      "cell_type": "code",
      "metadata": {
        "colab_type": "code",
        "id": "LS1j5DyuJVvA",
        "outputId": "f0ca1dfd-c77d-4309-db73-6a173dc70d26",
        "colab": {
          "base_uri": "https://localhost:8080/",
          "height": 35
        }
      },
      "source": [
        "c.shape = 2,6                      # a's shape doesn't change\n",
        "a.shape"
      ],
      "execution_count": 0,
      "outputs": [
        {
          "output_type": "execute_result",
          "data": {
            "text/plain": [
              "(12,)"
            ]
          },
          "metadata": {
            "tags": []
          },
          "execution_count": 75
        }
      ]
    },
    {
      "cell_type": "code",
      "metadata": {
        "colab_type": "code",
        "id": "czQvFTJxLecv",
        "outputId": "45f552f3-8a58-48b0-a173-2363f4480366",
        "colab": {
          "base_uri": "https://localhost:8080/",
          "height": 108
        }
      },
      "source": [
        "c[0,4] = 1234                      # a's data changes\n",
        "print('c \\n',c)\n",
        "print('a \\n',a)\n"
      ],
      "execution_count": 0,
      "outputs": [
        {
          "output_type": "stream",
          "text": [
            "c \n",
            " [[   0    1    2    3 1234    5]\n",
            " [   6    7    8    9   10   11]]\n",
            "a \n",
            " [   0    1    2    3 1234    5    6    7    8    9   10   11]\n"
          ],
          "name": "stdout"
        }
      ]
    },
    {
      "cell_type": "markdown",
      "metadata": {
        "colab_type": "text",
        "id": "eTB0atTyL5Do"
      },
      "source": [
        "Hint:\n",
        "Slicing an array returns a view of it:\n"
      ]
    },
    {
      "cell_type": "code",
      "metadata": {
        "colab_type": "code",
        "id": "JhWaqvUGL358",
        "outputId": "a01fadfe-b216-4131-addc-0236397e608d",
        "colab": {
          "base_uri": "https://localhost:8080/",
          "height": 54
        }
      },
      "source": [
        "\n",
        "s = a[0:3]     # spaces added for clarity; could also be written \"s = a[:,1:3]\"\n",
        "s[:] = 10           # s[:] is a view of s. Note the difference between s=10 and s[:]=10\n",
        "a\n"
      ],
      "execution_count": 0,
      "outputs": [
        {
          "output_type": "execute_result",
          "data": {
            "text/plain": [
              "array([  10,   10,   10,    3, 1234,    5,    6,    7,    8,    9,   10,\n",
              "         11])"
            ]
          },
          "metadata": {
            "tags": []
          },
          "execution_count": 84
        }
      ]
    },
    {
      "cell_type": "markdown",
      "metadata": {
        "colab_type": "text",
        "id": "MH_O62pAJb8L"
      },
      "source": [
        "\n",
        "\n",
        "***3.   Deep Copy:***\n",
        "\n",
        "The copy method makes a complete copy of the array and its data.\n",
        "\n"
      ]
    },
    {
      "cell_type": "code",
      "metadata": {
        "colab_type": "code",
        "id": "Cb_i3bGQMNf0",
        "colab": {}
      },
      "source": [
        "a = np.arange(12)\n",
        "a.shape=3,4"
      ],
      "execution_count": 0,
      "outputs": []
    },
    {
      "cell_type": "code",
      "metadata": {
        "colab_type": "code",
        "id": "9HQJEPKBJlOP",
        "colab": {}
      },
      "source": [
        "d = a.copy()                          # a new array object with new data is created\n",
        "print(d is a)\n",
        "print(d.base is a )                   # d doesn't share anything with a"
      ],
      "execution_count": 0,
      "outputs": []
    },
    {
      "cell_type": "code",
      "metadata": {
        "colab_type": "code",
        "id": "2pTvCSWVLlvK",
        "outputId": "deefb82d-706b-480d-a661-b5d91ca8262c",
        "colab": {
          "base_uri": "https://localhost:8080/",
          "height": 189
        }
      },
      "source": [
        "d[0,0] = 9999\n",
        "a"
      ],
      "execution_count": 0,
      "outputs": [
        {
          "output_type": "error",
          "ename": "NameError",
          "evalue": "ignored",
          "traceback": [
            "\u001b[0;31m---------------------------------------------------------------------------\u001b[0m",
            "\u001b[0;31mNameError\u001b[0m                                 Traceback (most recent call last)",
            "\u001b[0;32m<ipython-input-85-a09e52da756f>\u001b[0m in \u001b[0;36m<module>\u001b[0;34m()\u001b[0m\n\u001b[0;32m----> 1\u001b[0;31m \u001b[0md\u001b[0m\u001b[0;34m[\u001b[0m\u001b[0;36m0\u001b[0m\u001b[0;34m,\u001b[0m\u001b[0;36m0\u001b[0m\u001b[0;34m]\u001b[0m \u001b[0;34m=\u001b[0m \u001b[0;36m9999\u001b[0m\u001b[0;34m\u001b[0m\u001b[0;34m\u001b[0m\u001b[0m\n\u001b[0m\u001b[1;32m      2\u001b[0m \u001b[0ma\u001b[0m\u001b[0;34m\u001b[0m\u001b[0;34m\u001b[0m\u001b[0m\n",
            "\u001b[0;31mNameError\u001b[0m: name 'd' is not defined"
          ]
        }
      ]
    },
    {
      "cell_type": "code",
      "metadata": {
        "colab_type": "code",
        "id": "w5AgtAH0JW1H",
        "colab": {}
      },
      "source": [
        ""
      ],
      "execution_count": 0,
      "outputs": []
    },
    {
      "cell_type": "code",
      "metadata": {
        "id": "AuaRNTkrCQe6",
        "colab_type": "code",
        "colab": {}
      },
      "source": [
        ""
      ],
      "execution_count": 0,
      "outputs": []
    }
  ]
}